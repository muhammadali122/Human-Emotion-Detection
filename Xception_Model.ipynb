{
  "cells": [
    {
      "cell_type": "markdown",
      "metadata": {
        "id": "view-in-github",
        "colab_type": "text"
      },
      "source": [
        "<a href=\"https://colab.research.google.com/github/muhammadali122/Human-Emotion-Detection/blob/main/Xception_Model.ipynb\" target=\"_parent\"><img src=\"https://colab.research.google.com/assets/colab-badge.svg\" alt=\"Open In Colab\"/></a>"
      ]
    },
    {
      "cell_type": "code",
      "execution_count": 2,
      "metadata": {
        "id": "qCdOPC-YTO72"
      },
      "outputs": [],
      "source": [
        "import cv2\n",
        "import datetime as dt\n",
        "import glob\n",
        "import itertools\n",
        "import matplotlib.pylab as plt\n",
        "import numpy as np\n",
        "import pandas as pd\n",
        "from keras import models, layers, optimizers\n",
        "from tensorflow.keras.applications import Xception\n",
        "from keras.callbacks import ReduceLROnPlateau\n",
        "from keras.preprocessing.image import ImageDataGenerator\n",
        "from pathlib import Path\n",
        "from sklearn.metrics import confusion_matrix, classification_report\n",
        "from keras.layers import Dense, Flatten\n",
        "from keras.models import  Model\n",
        "import tensorflow as tf"
      ]
    },
    {
      "cell_type": "code",
      "execution_count": 3,
      "metadata": {
        "id": "ZhIHKdXnTWka"
      },
      "outputs": [],
      "source": [
        "train_path = '/content/drive/MyDrive/FYP Project/dataset/train'\n",
        "val_path = '/content/drive/MyDrive/FYP Project/dataset/test'"
      ]
    },
    {
      "cell_type": "code",
      "execution_count": 4,
      "metadata": {
        "id": "SR8138MRTyKT"
      },
      "outputs": [],
      "source": [
        "# re-size all the images to a size VGG-16 expects.\n",
        "IMAGE_SIZE = [224, 224]\n",
        "\n",
        "# Set the batch size\n",
        "BATCH_SIZE = 20 \n",
        "NUM_EPOCHS = 5\n",
        "LEARNING_RATE = 0.0001\n",
        "NUM_CLASSES = 3 "
      ]
    },
    {
      "cell_type": "code",
      "execution_count": 8,
      "metadata": {
        "id": "8ZEtC6ntT24Q"
      },
      "outputs": [],
      "source": [
        "import os\n",
        "CLASSES = os.listdir(train_path)\n",
        "NUM_CLASSES = len(CLASSES)"
      ]
    },
    {
      "cell_type": "code",
      "execution_count": 9,
      "metadata": {
        "colab": {
          "base_uri": "https://localhost:8080/"
        },
        "id": "nfZNYxExT47f",
        "outputId": "b483d880-92de-46f7-a6cd-a0e55d1b6d8f"
      },
      "outputs": [
        {
          "output_type": "stream",
          "name": "stdout",
          "text": [
            "Class --> ['NEGATIVE', 'NEUTRAL', 'POSITIVE'] \n",
            " and the length is : 3\n"
          ]
        }
      ],
      "source": [
        "print(\"Class --> {} \\n and the length is : {}\".format(CLASSES, NUM_CLASSES))"
      ]
    },
    {
      "cell_type": "code",
      "execution_count": 10,
      "metadata": {
        "colab": {
          "base_uri": "https://localhost:8080/"
        },
        "id": "NAyWpt0BT8Y2",
        "outputId": "0e6e3e82-79ac-4318-d3ee-049dbca9944f"
      },
      "outputs": [
        {
          "output_type": "execute_result",
          "data": {
            "text/plain": [
              "['NEGATIVE', 'NEUTRAL', 'POSITIVE']"
            ]
          },
          "metadata": {},
          "execution_count": 10
        }
      ],
      "source": [
        "CLASSES"
      ]
    },
    {
      "cell_type": "code",
      "execution_count": 11,
      "metadata": {
        "colab": {
          "base_uri": "https://localhost:8080/"
        },
        "id": "LWDNDk5BUC4z",
        "outputId": "362588c4-2763-4911-8c68-cf025d5aa4bc"
      },
      "outputs": [
        {
          "output_type": "stream",
          "name": "stdout",
          "text": [
            "Found 1599 images belonging to 3 classes.\n",
            "Found 533 images belonging to 3 classes.\n"
          ]
        }
      ],
      "source": [
        "train_datagen = ImageDataGenerator(rescale=1./255)\n",
        "train_generator = train_datagen.flow_from_directory(train_path, \n",
        "                                                    target_size=IMAGE_SIZE,\n",
        "                                                    batch_size=BATCH_SIZE,\n",
        "                                                    class_mode='categorical')\n",
        "\n",
        "# Test generator\n",
        "test_datagen = ImageDataGenerator(rescale=1./255)\n",
        "test_generator = test_datagen.flow_from_directory(val_path, \n",
        "                                                  target_size=IMAGE_SIZE, \n",
        "                                                  batch_size=BATCH_SIZE,\n",
        "                                                  class_mode='categorical')"
      ]
    },
    {
      "cell_type": "code",
      "execution_count": 12,
      "metadata": {
        "id": "9ZbYnH8jd_5C",
        "colab": {
          "base_uri": "https://localhost:8080/"
        },
        "outputId": "f9078bc5-89ee-46f0-fecd-94d31fcd11d5"
      },
      "outputs": [
        {
          "output_type": "stream",
          "name": "stdout",
          "text": [
            "Downloading data from https://storage.googleapis.com/tensorflow/keras-applications/xception/xception_weights_tf_dim_ordering_tf_kernels_notop.h5\n",
            "83689472/83683744 [==============================] - 1s 0us/step\n",
            "83697664/83683744 [==============================] - 1s 0us/step\n"
          ]
        }
      ],
      "source": [
        "# Initialize the base model\n",
        "base_model = Xception(weights='imagenet',\n",
        "                      include_top=False,\n",
        "                      input_shape=(224,224, 3))"
      ]
    },
    {
      "cell_type": "markdown",
      "metadata": {
        "id": "ASp4sl9jJRcs"
      },
      "source": [
        "Compile The Model"
      ]
    },
    {
      "cell_type": "code",
      "execution_count": 13,
      "metadata": {
        "id": "tJGpJpjnJPuN"
      },
      "outputs": [],
      "source": [
        "base_model.compile(optimizer='adam', loss= tf.keras.losses.binary_crossentropy, metrics=['accuracy'])"
      ]
    },
    {
      "cell_type": "markdown",
      "metadata": {
        "id": "P7eEG579KJXf"
      },
      "source": [
        "Summary"
      ]
    },
    {
      "cell_type": "code",
      "execution_count": 14,
      "metadata": {
        "colab": {
          "base_uri": "https://localhost:8080/"
        },
        "id": "2PfdXV7hHjSu",
        "outputId": "9f4cdcb4-55fe-4722-9363-b425571bc2c4"
      },
      "outputs": [
        {
          "output_type": "stream",
          "name": "stdout",
          "text": [
            "Model: \"xception\"\n",
            "__________________________________________________________________________________________________\n",
            " Layer (type)                   Output Shape         Param #     Connected to                     \n",
            "==================================================================================================\n",
            " input_1 (InputLayer)           [(None, 224, 224, 3  0           []                               \n",
            "                                )]                                                                \n",
            "                                                                                                  \n",
            " block1_conv1 (Conv2D)          (None, 111, 111, 32  864         ['input_1[0][0]']                \n",
            "                                )                                                                 \n",
            "                                                                                                  \n",
            " block1_conv1_bn (BatchNormaliz  (None, 111, 111, 32  128        ['block1_conv1[0][0]']           \n",
            " ation)                         )                                                                 \n",
            "                                                                                                  \n",
            " block1_conv1_act (Activation)  (None, 111, 111, 32  0           ['block1_conv1_bn[0][0]']        \n",
            "                                )                                                                 \n",
            "                                                                                                  \n",
            " block1_conv2 (Conv2D)          (None, 109, 109, 64  18432       ['block1_conv1_act[0][0]']       \n",
            "                                )                                                                 \n",
            "                                                                                                  \n",
            " block1_conv2_bn (BatchNormaliz  (None, 109, 109, 64  256        ['block1_conv2[0][0]']           \n",
            " ation)                         )                                                                 \n",
            "                                                                                                  \n",
            " block1_conv2_act (Activation)  (None, 109, 109, 64  0           ['block1_conv2_bn[0][0]']        \n",
            "                                )                                                                 \n",
            "                                                                                                  \n",
            " block2_sepconv1 (SeparableConv  (None, 109, 109, 12  8768       ['block1_conv2_act[0][0]']       \n",
            " 2D)                            8)                                                                \n",
            "                                                                                                  \n",
            " block2_sepconv1_bn (BatchNorma  (None, 109, 109, 12  512        ['block2_sepconv1[0][0]']        \n",
            " lization)                      8)                                                                \n",
            "                                                                                                  \n",
            " block2_sepconv2_act (Activatio  (None, 109, 109, 12  0          ['block2_sepconv1_bn[0][0]']     \n",
            " n)                             8)                                                                \n",
            "                                                                                                  \n",
            " block2_sepconv2 (SeparableConv  (None, 109, 109, 12  17536      ['block2_sepconv2_act[0][0]']    \n",
            " 2D)                            8)                                                                \n",
            "                                                                                                  \n",
            " block2_sepconv2_bn (BatchNorma  (None, 109, 109, 12  512        ['block2_sepconv2[0][0]']        \n",
            " lization)                      8)                                                                \n",
            "                                                                                                  \n",
            " conv2d (Conv2D)                (None, 55, 55, 128)  8192        ['block1_conv2_act[0][0]']       \n",
            "                                                                                                  \n",
            " block2_pool (MaxPooling2D)     (None, 55, 55, 128)  0           ['block2_sepconv2_bn[0][0]']     \n",
            "                                                                                                  \n",
            " batch_normalization (BatchNorm  (None, 55, 55, 128)  512        ['conv2d[0][0]']                 \n",
            " alization)                                                                                       \n",
            "                                                                                                  \n",
            " add (Add)                      (None, 55, 55, 128)  0           ['block2_pool[0][0]',            \n",
            "                                                                  'batch_normalization[0][0]']    \n",
            "                                                                                                  \n",
            " block3_sepconv1_act (Activatio  (None, 55, 55, 128)  0          ['add[0][0]']                    \n",
            " n)                                                                                               \n",
            "                                                                                                  \n",
            " block3_sepconv1 (SeparableConv  (None, 55, 55, 256)  33920      ['block3_sepconv1_act[0][0]']    \n",
            " 2D)                                                                                              \n",
            "                                                                                                  \n",
            " block3_sepconv1_bn (BatchNorma  (None, 55, 55, 256)  1024       ['block3_sepconv1[0][0]']        \n",
            " lization)                                                                                        \n",
            "                                                                                                  \n",
            " block3_sepconv2_act (Activatio  (None, 55, 55, 256)  0          ['block3_sepconv1_bn[0][0]']     \n",
            " n)                                                                                               \n",
            "                                                                                                  \n",
            " block3_sepconv2 (SeparableConv  (None, 55, 55, 256)  67840      ['block3_sepconv2_act[0][0]']    \n",
            " 2D)                                                                                              \n",
            "                                                                                                  \n",
            " block3_sepconv2_bn (BatchNorma  (None, 55, 55, 256)  1024       ['block3_sepconv2[0][0]']        \n",
            " lization)                                                                                        \n",
            "                                                                                                  \n",
            " conv2d_1 (Conv2D)              (None, 28, 28, 256)  32768       ['add[0][0]']                    \n",
            "                                                                                                  \n",
            " block3_pool (MaxPooling2D)     (None, 28, 28, 256)  0           ['block3_sepconv2_bn[0][0]']     \n",
            "                                                                                                  \n",
            " batch_normalization_1 (BatchNo  (None, 28, 28, 256)  1024       ['conv2d_1[0][0]']               \n",
            " rmalization)                                                                                     \n",
            "                                                                                                  \n",
            " add_1 (Add)                    (None, 28, 28, 256)  0           ['block3_pool[0][0]',            \n",
            "                                                                  'batch_normalization_1[0][0]']  \n",
            "                                                                                                  \n",
            " block4_sepconv1_act (Activatio  (None, 28, 28, 256)  0          ['add_1[0][0]']                  \n",
            " n)                                                                                               \n",
            "                                                                                                  \n",
            " block4_sepconv1 (SeparableConv  (None, 28, 28, 728)  188672     ['block4_sepconv1_act[0][0]']    \n",
            " 2D)                                                                                              \n",
            "                                                                                                  \n",
            " block4_sepconv1_bn (BatchNorma  (None, 28, 28, 728)  2912       ['block4_sepconv1[0][0]']        \n",
            " lization)                                                                                        \n",
            "                                                                                                  \n",
            " block4_sepconv2_act (Activatio  (None, 28, 28, 728)  0          ['block4_sepconv1_bn[0][0]']     \n",
            " n)                                                                                               \n",
            "                                                                                                  \n",
            " block4_sepconv2 (SeparableConv  (None, 28, 28, 728)  536536     ['block4_sepconv2_act[0][0]']    \n",
            " 2D)                                                                                              \n",
            "                                                                                                  \n",
            " block4_sepconv2_bn (BatchNorma  (None, 28, 28, 728)  2912       ['block4_sepconv2[0][0]']        \n",
            " lization)                                                                                        \n",
            "                                                                                                  \n",
            " conv2d_2 (Conv2D)              (None, 14, 14, 728)  186368      ['add_1[0][0]']                  \n",
            "                                                                                                  \n",
            " block4_pool (MaxPooling2D)     (None, 14, 14, 728)  0           ['block4_sepconv2_bn[0][0]']     \n",
            "                                                                                                  \n",
            " batch_normalization_2 (BatchNo  (None, 14, 14, 728)  2912       ['conv2d_2[0][0]']               \n",
            " rmalization)                                                                                     \n",
            "                                                                                                  \n",
            " add_2 (Add)                    (None, 14, 14, 728)  0           ['block4_pool[0][0]',            \n",
            "                                                                  'batch_normalization_2[0][0]']  \n",
            "                                                                                                  \n",
            " block5_sepconv1_act (Activatio  (None, 14, 14, 728)  0          ['add_2[0][0]']                  \n",
            " n)                                                                                               \n",
            "                                                                                                  \n",
            " block5_sepconv1 (SeparableConv  (None, 14, 14, 728)  536536     ['block5_sepconv1_act[0][0]']    \n",
            " 2D)                                                                                              \n",
            "                                                                                                  \n",
            " block5_sepconv1_bn (BatchNorma  (None, 14, 14, 728)  2912       ['block5_sepconv1[0][0]']        \n",
            " lization)                                                                                        \n",
            "                                                                                                  \n",
            " block5_sepconv2_act (Activatio  (None, 14, 14, 728)  0          ['block5_sepconv1_bn[0][0]']     \n",
            " n)                                                                                               \n",
            "                                                                                                  \n",
            " block5_sepconv2 (SeparableConv  (None, 14, 14, 728)  536536     ['block5_sepconv2_act[0][0]']    \n",
            " 2D)                                                                                              \n",
            "                                                                                                  \n",
            " block5_sepconv2_bn (BatchNorma  (None, 14, 14, 728)  2912       ['block5_sepconv2[0][0]']        \n",
            " lization)                                                                                        \n",
            "                                                                                                  \n",
            " block5_sepconv3_act (Activatio  (None, 14, 14, 728)  0          ['block5_sepconv2_bn[0][0]']     \n",
            " n)                                                                                               \n",
            "                                                                                                  \n",
            " block5_sepconv3 (SeparableConv  (None, 14, 14, 728)  536536     ['block5_sepconv3_act[0][0]']    \n",
            " 2D)                                                                                              \n",
            "                                                                                                  \n",
            " block5_sepconv3_bn (BatchNorma  (None, 14, 14, 728)  2912       ['block5_sepconv3[0][0]']        \n",
            " lization)                                                                                        \n",
            "                                                                                                  \n",
            " add_3 (Add)                    (None, 14, 14, 728)  0           ['block5_sepconv3_bn[0][0]',     \n",
            "                                                                  'add_2[0][0]']                  \n",
            "                                                                                                  \n",
            " block6_sepconv1_act (Activatio  (None, 14, 14, 728)  0          ['add_3[0][0]']                  \n",
            " n)                                                                                               \n",
            "                                                                                                  \n",
            " block6_sepconv1 (SeparableConv  (None, 14, 14, 728)  536536     ['block6_sepconv1_act[0][0]']    \n",
            " 2D)                                                                                              \n",
            "                                                                                                  \n",
            " block6_sepconv1_bn (BatchNorma  (None, 14, 14, 728)  2912       ['block6_sepconv1[0][0]']        \n",
            " lization)                                                                                        \n",
            "                                                                                                  \n",
            " block6_sepconv2_act (Activatio  (None, 14, 14, 728)  0          ['block6_sepconv1_bn[0][0]']     \n",
            " n)                                                                                               \n",
            "                                                                                                  \n",
            " block6_sepconv2 (SeparableConv  (None, 14, 14, 728)  536536     ['block6_sepconv2_act[0][0]']    \n",
            " 2D)                                                                                              \n",
            "                                                                                                  \n",
            " block6_sepconv2_bn (BatchNorma  (None, 14, 14, 728)  2912       ['block6_sepconv2[0][0]']        \n",
            " lization)                                                                                        \n",
            "                                                                                                  \n",
            " block6_sepconv3_act (Activatio  (None, 14, 14, 728)  0          ['block6_sepconv2_bn[0][0]']     \n",
            " n)                                                                                               \n",
            "                                                                                                  \n",
            " block6_sepconv3 (SeparableConv  (None, 14, 14, 728)  536536     ['block6_sepconv3_act[0][0]']    \n",
            " 2D)                                                                                              \n",
            "                                                                                                  \n",
            " block6_sepconv3_bn (BatchNorma  (None, 14, 14, 728)  2912       ['block6_sepconv3[0][0]']        \n",
            " lization)                                                                                        \n",
            "                                                                                                  \n",
            " add_4 (Add)                    (None, 14, 14, 728)  0           ['block6_sepconv3_bn[0][0]',     \n",
            "                                                                  'add_3[0][0]']                  \n",
            "                                                                                                  \n",
            " block7_sepconv1_act (Activatio  (None, 14, 14, 728)  0          ['add_4[0][0]']                  \n",
            " n)                                                                                               \n",
            "                                                                                                  \n",
            " block7_sepconv1 (SeparableConv  (None, 14, 14, 728)  536536     ['block7_sepconv1_act[0][0]']    \n",
            " 2D)                                                                                              \n",
            "                                                                                                  \n",
            " block7_sepconv1_bn (BatchNorma  (None, 14, 14, 728)  2912       ['block7_sepconv1[0][0]']        \n",
            " lization)                                                                                        \n",
            "                                                                                                  \n",
            " block7_sepconv2_act (Activatio  (None, 14, 14, 728)  0          ['block7_sepconv1_bn[0][0]']     \n",
            " n)                                                                                               \n",
            "                                                                                                  \n",
            " block7_sepconv2 (SeparableConv  (None, 14, 14, 728)  536536     ['block7_sepconv2_act[0][0]']    \n",
            " 2D)                                                                                              \n",
            "                                                                                                  \n",
            " block7_sepconv2_bn (BatchNorma  (None, 14, 14, 728)  2912       ['block7_sepconv2[0][0]']        \n",
            " lization)                                                                                        \n",
            "                                                                                                  \n",
            " block7_sepconv3_act (Activatio  (None, 14, 14, 728)  0          ['block7_sepconv2_bn[0][0]']     \n",
            " n)                                                                                               \n",
            "                                                                                                  \n",
            " block7_sepconv3 (SeparableConv  (None, 14, 14, 728)  536536     ['block7_sepconv3_act[0][0]']    \n",
            " 2D)                                                                                              \n",
            "                                                                                                  \n",
            " block7_sepconv3_bn (BatchNorma  (None, 14, 14, 728)  2912       ['block7_sepconv3[0][0]']        \n",
            " lization)                                                                                        \n",
            "                                                                                                  \n",
            " add_5 (Add)                    (None, 14, 14, 728)  0           ['block7_sepconv3_bn[0][0]',     \n",
            "                                                                  'add_4[0][0]']                  \n",
            "                                                                                                  \n",
            " block8_sepconv1_act (Activatio  (None, 14, 14, 728)  0          ['add_5[0][0]']                  \n",
            " n)                                                                                               \n",
            "                                                                                                  \n",
            " block8_sepconv1 (SeparableConv  (None, 14, 14, 728)  536536     ['block8_sepconv1_act[0][0]']    \n",
            " 2D)                                                                                              \n",
            "                                                                                                  \n",
            " block8_sepconv1_bn (BatchNorma  (None, 14, 14, 728)  2912       ['block8_sepconv1[0][0]']        \n",
            " lization)                                                                                        \n",
            "                                                                                                  \n",
            " block8_sepconv2_act (Activatio  (None, 14, 14, 728)  0          ['block8_sepconv1_bn[0][0]']     \n",
            " n)                                                                                               \n",
            "                                                                                                  \n",
            " block8_sepconv2 (SeparableConv  (None, 14, 14, 728)  536536     ['block8_sepconv2_act[0][0]']    \n",
            " 2D)                                                                                              \n",
            "                                                                                                  \n",
            " block8_sepconv2_bn (BatchNorma  (None, 14, 14, 728)  2912       ['block8_sepconv2[0][0]']        \n",
            " lization)                                                                                        \n",
            "                                                                                                  \n",
            " block8_sepconv3_act (Activatio  (None, 14, 14, 728)  0          ['block8_sepconv2_bn[0][0]']     \n",
            " n)                                                                                               \n",
            "                                                                                                  \n",
            " block8_sepconv3 (SeparableConv  (None, 14, 14, 728)  536536     ['block8_sepconv3_act[0][0]']    \n",
            " 2D)                                                                                              \n",
            "                                                                                                  \n",
            " block8_sepconv3_bn (BatchNorma  (None, 14, 14, 728)  2912       ['block8_sepconv3[0][0]']        \n",
            " lization)                                                                                        \n",
            "                                                                                                  \n",
            " add_6 (Add)                    (None, 14, 14, 728)  0           ['block8_sepconv3_bn[0][0]',     \n",
            "                                                                  'add_5[0][0]']                  \n",
            "                                                                                                  \n",
            " block9_sepconv1_act (Activatio  (None, 14, 14, 728)  0          ['add_6[0][0]']                  \n",
            " n)                                                                                               \n",
            "                                                                                                  \n",
            " block9_sepconv1 (SeparableConv  (None, 14, 14, 728)  536536     ['block9_sepconv1_act[0][0]']    \n",
            " 2D)                                                                                              \n",
            "                                                                                                  \n",
            " block9_sepconv1_bn (BatchNorma  (None, 14, 14, 728)  2912       ['block9_sepconv1[0][0]']        \n",
            " lization)                                                                                        \n",
            "                                                                                                  \n",
            " block9_sepconv2_act (Activatio  (None, 14, 14, 728)  0          ['block9_sepconv1_bn[0][0]']     \n",
            " n)                                                                                               \n",
            "                                                                                                  \n",
            " block9_sepconv2 (SeparableConv  (None, 14, 14, 728)  536536     ['block9_sepconv2_act[0][0]']    \n",
            " 2D)                                                                                              \n",
            "                                                                                                  \n",
            " block9_sepconv2_bn (BatchNorma  (None, 14, 14, 728)  2912       ['block9_sepconv2[0][0]']        \n",
            " lization)                                                                                        \n",
            "                                                                                                  \n",
            " block9_sepconv3_act (Activatio  (None, 14, 14, 728)  0          ['block9_sepconv2_bn[0][0]']     \n",
            " n)                                                                                               \n",
            "                                                                                                  \n",
            " block9_sepconv3 (SeparableConv  (None, 14, 14, 728)  536536     ['block9_sepconv3_act[0][0]']    \n",
            " 2D)                                                                                              \n",
            "                                                                                                  \n",
            " block9_sepconv3_bn (BatchNorma  (None, 14, 14, 728)  2912       ['block9_sepconv3[0][0]']        \n",
            " lization)                                                                                        \n",
            "                                                                                                  \n",
            " add_7 (Add)                    (None, 14, 14, 728)  0           ['block9_sepconv3_bn[0][0]',     \n",
            "                                                                  'add_6[0][0]']                  \n",
            "                                                                                                  \n",
            " block10_sepconv1_act (Activati  (None, 14, 14, 728)  0          ['add_7[0][0]']                  \n",
            " on)                                                                                              \n",
            "                                                                                                  \n",
            " block10_sepconv1 (SeparableCon  (None, 14, 14, 728)  536536     ['block10_sepconv1_act[0][0]']   \n",
            " v2D)                                                                                             \n",
            "                                                                                                  \n",
            " block10_sepconv1_bn (BatchNorm  (None, 14, 14, 728)  2912       ['block10_sepconv1[0][0]']       \n",
            " alization)                                                                                       \n",
            "                                                                                                  \n",
            " block10_sepconv2_act (Activati  (None, 14, 14, 728)  0          ['block10_sepconv1_bn[0][0]']    \n",
            " on)                                                                                              \n",
            "                                                                                                  \n",
            " block10_sepconv2 (SeparableCon  (None, 14, 14, 728)  536536     ['block10_sepconv2_act[0][0]']   \n",
            " v2D)                                                                                             \n",
            "                                                                                                  \n",
            " block10_sepconv2_bn (BatchNorm  (None, 14, 14, 728)  2912       ['block10_sepconv2[0][0]']       \n",
            " alization)                                                                                       \n",
            "                                                                                                  \n",
            " block10_sepconv3_act (Activati  (None, 14, 14, 728)  0          ['block10_sepconv2_bn[0][0]']    \n",
            " on)                                                                                              \n",
            "                                                                                                  \n",
            " block10_sepconv3 (SeparableCon  (None, 14, 14, 728)  536536     ['block10_sepconv3_act[0][0]']   \n",
            " v2D)                                                                                             \n",
            "                                                                                                  \n",
            " block10_sepconv3_bn (BatchNorm  (None, 14, 14, 728)  2912       ['block10_sepconv3[0][0]']       \n",
            " alization)                                                                                       \n",
            "                                                                                                  \n",
            " add_8 (Add)                    (None, 14, 14, 728)  0           ['block10_sepconv3_bn[0][0]',    \n",
            "                                                                  'add_7[0][0]']                  \n",
            "                                                                                                  \n",
            " block11_sepconv1_act (Activati  (None, 14, 14, 728)  0          ['add_8[0][0]']                  \n",
            " on)                                                                                              \n",
            "                                                                                                  \n",
            " block11_sepconv1 (SeparableCon  (None, 14, 14, 728)  536536     ['block11_sepconv1_act[0][0]']   \n",
            " v2D)                                                                                             \n",
            "                                                                                                  \n",
            " block11_sepconv1_bn (BatchNorm  (None, 14, 14, 728)  2912       ['block11_sepconv1[0][0]']       \n",
            " alization)                                                                                       \n",
            "                                                                                                  \n",
            " block11_sepconv2_act (Activati  (None, 14, 14, 728)  0          ['block11_sepconv1_bn[0][0]']    \n",
            " on)                                                                                              \n",
            "                                                                                                  \n",
            " block11_sepconv2 (SeparableCon  (None, 14, 14, 728)  536536     ['block11_sepconv2_act[0][0]']   \n",
            " v2D)                                                                                             \n",
            "                                                                                                  \n",
            " block11_sepconv2_bn (BatchNorm  (None, 14, 14, 728)  2912       ['block11_sepconv2[0][0]']       \n",
            " alization)                                                                                       \n",
            "                                                                                                  \n",
            " block11_sepconv3_act (Activati  (None, 14, 14, 728)  0          ['block11_sepconv2_bn[0][0]']    \n",
            " on)                                                                                              \n",
            "                                                                                                  \n",
            " block11_sepconv3 (SeparableCon  (None, 14, 14, 728)  536536     ['block11_sepconv3_act[0][0]']   \n",
            " v2D)                                                                                             \n",
            "                                                                                                  \n",
            " block11_sepconv3_bn (BatchNorm  (None, 14, 14, 728)  2912       ['block11_sepconv3[0][0]']       \n",
            " alization)                                                                                       \n",
            "                                                                                                  \n",
            " add_9 (Add)                    (None, 14, 14, 728)  0           ['block11_sepconv3_bn[0][0]',    \n",
            "                                                                  'add_8[0][0]']                  \n",
            "                                                                                                  \n",
            " block12_sepconv1_act (Activati  (None, 14, 14, 728)  0          ['add_9[0][0]']                  \n",
            " on)                                                                                              \n",
            "                                                                                                  \n",
            " block12_sepconv1 (SeparableCon  (None, 14, 14, 728)  536536     ['block12_sepconv1_act[0][0]']   \n",
            " v2D)                                                                                             \n",
            "                                                                                                  \n",
            " block12_sepconv1_bn (BatchNorm  (None, 14, 14, 728)  2912       ['block12_sepconv1[0][0]']       \n",
            " alization)                                                                                       \n",
            "                                                                                                  \n",
            " block12_sepconv2_act (Activati  (None, 14, 14, 728)  0          ['block12_sepconv1_bn[0][0]']    \n",
            " on)                                                                                              \n",
            "                                                                                                  \n",
            " block12_sepconv2 (SeparableCon  (None, 14, 14, 728)  536536     ['block12_sepconv2_act[0][0]']   \n",
            " v2D)                                                                                             \n",
            "                                                                                                  \n",
            " block12_sepconv2_bn (BatchNorm  (None, 14, 14, 728)  2912       ['block12_sepconv2[0][0]']       \n",
            " alization)                                                                                       \n",
            "                                                                                                  \n",
            " block12_sepconv3_act (Activati  (None, 14, 14, 728)  0          ['block12_sepconv2_bn[0][0]']    \n",
            " on)                                                                                              \n",
            "                                                                                                  \n",
            " block12_sepconv3 (SeparableCon  (None, 14, 14, 728)  536536     ['block12_sepconv3_act[0][0]']   \n",
            " v2D)                                                                                             \n",
            "                                                                                                  \n",
            " block12_sepconv3_bn (BatchNorm  (None, 14, 14, 728)  2912       ['block12_sepconv3[0][0]']       \n",
            " alization)                                                                                       \n",
            "                                                                                                  \n",
            " add_10 (Add)                   (None, 14, 14, 728)  0           ['block12_sepconv3_bn[0][0]',    \n",
            "                                                                  'add_9[0][0]']                  \n",
            "                                                                                                  \n",
            " block13_sepconv1_act (Activati  (None, 14, 14, 728)  0          ['add_10[0][0]']                 \n",
            " on)                                                                                              \n",
            "                                                                                                  \n",
            " block13_sepconv1 (SeparableCon  (None, 14, 14, 728)  536536     ['block13_sepconv1_act[0][0]']   \n",
            " v2D)                                                                                             \n",
            "                                                                                                  \n",
            " block13_sepconv1_bn (BatchNorm  (None, 14, 14, 728)  2912       ['block13_sepconv1[0][0]']       \n",
            " alization)                                                                                       \n",
            "                                                                                                  \n",
            " block13_sepconv2_act (Activati  (None, 14, 14, 728)  0          ['block13_sepconv1_bn[0][0]']    \n",
            " on)                                                                                              \n",
            "                                                                                                  \n",
            " block13_sepconv2 (SeparableCon  (None, 14, 14, 1024  752024     ['block13_sepconv2_act[0][0]']   \n",
            " v2D)                           )                                                                 \n",
            "                                                                                                  \n",
            " block13_sepconv2_bn (BatchNorm  (None, 14, 14, 1024  4096       ['block13_sepconv2[0][0]']       \n",
            " alization)                     )                                                                 \n",
            "                                                                                                  \n",
            " conv2d_3 (Conv2D)              (None, 7, 7, 1024)   745472      ['add_10[0][0]']                 \n",
            "                                                                                                  \n",
            " block13_pool (MaxPooling2D)    (None, 7, 7, 1024)   0           ['block13_sepconv2_bn[0][0]']    \n",
            "                                                                                                  \n",
            " batch_normalization_3 (BatchNo  (None, 7, 7, 1024)  4096        ['conv2d_3[0][0]']               \n",
            " rmalization)                                                                                     \n",
            "                                                                                                  \n",
            " add_11 (Add)                   (None, 7, 7, 1024)   0           ['block13_pool[0][0]',           \n",
            "                                                                  'batch_normalization_3[0][0]']  \n",
            "                                                                                                  \n",
            " block14_sepconv1 (SeparableCon  (None, 7, 7, 1536)  1582080     ['add_11[0][0]']                 \n",
            " v2D)                                                                                             \n",
            "                                                                                                  \n",
            " block14_sepconv1_bn (BatchNorm  (None, 7, 7, 1536)  6144        ['block14_sepconv1[0][0]']       \n",
            " alization)                                                                                       \n",
            "                                                                                                  \n",
            " block14_sepconv1_act (Activati  (None, 7, 7, 1536)  0           ['block14_sepconv1_bn[0][0]']    \n",
            " on)                                                                                              \n",
            "                                                                                                  \n",
            " block14_sepconv2 (SeparableCon  (None, 7, 7, 2048)  3159552     ['block14_sepconv1_act[0][0]']   \n",
            " v2D)                                                                                             \n",
            "                                                                                                  \n",
            " block14_sepconv2_bn (BatchNorm  (None, 7, 7, 2048)  8192        ['block14_sepconv2[0][0]']       \n",
            " alization)                                                                                       \n",
            "                                                                                                  \n",
            " block14_sepconv2_act (Activati  (None, 7, 7, 2048)  0           ['block14_sepconv2_bn[0][0]']    \n",
            " on)                                                                                              \n",
            "                                                                                                  \n",
            "==================================================================================================\n",
            "Total params: 20,861,480\n",
            "Trainable params: 20,806,952\n",
            "Non-trainable params: 54,528\n",
            "__________________________________________________________________________________________________\n"
          ]
        }
      ],
      "source": [
        "base_model.summary()"
      ]
    },
    {
      "cell_type": "code",
      "execution_count": 15,
      "metadata": {
        "id": "awuMrUEceA1y"
      },
      "outputs": [],
      "source": [
        "def extract_features(sample_count, datagen):\n",
        "    start = dt.datetime.now()\n",
        "    features =  np.zeros(shape=(sample_count, 7, 7, 2048))\n",
        "    labels = np.zeros(shape=(sample_count,3))\n",
        "    generator = datagen\n",
        "    i = 0\n",
        "    for inputs_batch,labels_batch in generator:\n",
        "        stop = dt.datetime.now()\n",
        "        time = (stop - start).seconds\n",
        "        print('\\r',\n",
        "              'Extracting features from batch', str(i+1), '/', len(datagen),\n",
        "              '-- run time:', time,'seconds',\n",
        "              end='')\n",
        "        \n",
        "        features_batch = base_model.predict(inputs_batch)\n",
        "        \n",
        "        features[i * BATCH_SIZE : (i + 1) * BATCH_SIZE] = features_batch\n",
        "        labels[i * BATCH_SIZE : (i + 1) * BATCH_SIZE] = labels_batch\n",
        "        i += 1\n",
        "        \n",
        "        if i * BATCH_SIZE >= sample_count:\n",
        "            break\n",
        "            \n",
        "    print(\"\\n\")\n",
        "    \n",
        "    return features,labels"
      ]
    },
    {
      "cell_type": "code",
      "execution_count": 16,
      "metadata": {
        "colab": {
          "base_uri": "https://localhost:8080/"
        },
        "id": "V2BRlX77fx_K",
        "outputId": "f542ee46-88e7-49cd-a364-76a9294abad3"
      },
      "outputs": [
        {
          "output_type": "stream",
          "name": "stdout",
          "text": [
            " Extracting features from batch 80 / 80 -- run time: 1105 seconds\n",
            "\n",
            " Extracting features from batch 27 / 27 -- run time: 526 seconds\n",
            "\n"
          ]
        }
      ],
      "source": [
        "train_features, train_labels = extract_features(1599, train_generator)\n",
        "test_features, test_labels = extract_features(533, test_generator)"
      ]
    },
    {
      "cell_type": "code",
      "execution_count": 17,
      "metadata": {
        "id": "XOUgj3sPgHfG"
      },
      "outputs": [],
      "source": [
        "flat_dim = 7 * 7 * 2048\n",
        "train_features = np.reshape(train_features, (1599, flat_dim))\n",
        "test_features = np.reshape(test_features, (533, flat_dim))"
      ]
    },
    {
      "cell_type": "code",
      "execution_count": 18,
      "metadata": {
        "id": "ZeIOGVm-wbru"
      },
      "outputs": [],
      "source": [
        "reduce_learning_rate = ReduceLROnPlateau(monitor='loss',\n",
        "                                         factor=0.1,\n",
        "                                         patience=2,\n",
        "                                         cooldown=2,\n",
        "                                         min_lr=0.00001,\n",
        "                                         verbose=1)\n",
        "\n",
        "callbacks = [reduce_learning_rate]"
      ]
    },
    {
      "cell_type": "code",
      "execution_count": 19,
      "metadata": {
        "colab": {
          "base_uri": "https://localhost:8080/"
        },
        "id": "l2rSjUEFw418",
        "outputId": "808c7e59-2ab1-4ee5-818d-7dc834a89f14"
      },
      "outputs": [
        {
          "output_type": "stream",
          "name": "stdout",
          "text": [
            "Model: \"sequential\"\n",
            "_________________________________________________________________\n",
            " Layer (type)                Output Shape              Param #   \n",
            "=================================================================\n",
            " dense (Dense)               (None, 512)               51380736  \n",
            "                                                                 \n",
            " dropout (Dropout)           (None, 512)               0         \n",
            "                                                                 \n",
            " dense_1 (Dense)             (None, 3)                 1539      \n",
            "                                                                 \n",
            "=================================================================\n",
            "Total params: 51,382,275\n",
            "Trainable params: 51,382,275\n",
            "Non-trainable params: 0\n",
            "_________________________________________________________________\n"
          ]
        }
      ],
      "source": [
        "model = models.Sequential()\n",
        "model.add(layers.Dense(512, activation='relu', input_dim=flat_dim))\n",
        "model.add(layers.Dropout(0.5))\n",
        "model.add(layers.Dense(3, activation='softmax'))\n",
        "model.compile(optimizer='adam',\n",
        "              loss='categorical_crossentropy',\n",
        "              metrics=['acc'])\n",
        "model.summary()"
      ]
    },
    {
      "cell_type": "code",
      "execution_count": 20,
      "metadata": {
        "colab": {
          "base_uri": "https://localhost:8080/"
        },
        "id": "pPXuyjWkw9oF",
        "outputId": "35a5a309-f60f-4665-da0c-f966a0cd4fbf"
      },
      "outputs": [
        {
          "output_type": "stream",
          "name": "stdout",
          "text": [
            "Epoch 1/50\n",
            "64/64 [==============================] - 2s 22ms/step - loss: 3.2039 - acc: 0.7733 - val_loss: 0.6573 - val_acc: 0.8562 - lr: 0.0010\n",
            "Epoch 2/50\n",
            "64/64 [==============================] - 1s 17ms/step - loss: 0.5551 - acc: 0.8507 - val_loss: 0.4136 - val_acc: 0.8469 - lr: 0.0010\n",
            "Epoch 3/50\n",
            "64/64 [==============================] - 1s 17ms/step - loss: 0.2986 - acc: 0.8851 - val_loss: 0.2899 - val_acc: 0.8625 - lr: 0.0010\n",
            "Epoch 4/50\n",
            "64/64 [==============================] - 1s 18ms/step - loss: 0.2736 - acc: 0.8921 - val_loss: 0.2913 - val_acc: 0.8625 - lr: 0.0010\n",
            "Epoch 5/50\n",
            "64/64 [==============================] - 1s 17ms/step - loss: 0.2314 - acc: 0.9132 - val_loss: 0.2970 - val_acc: 0.8656 - lr: 0.0010\n",
            "Epoch 6/50\n",
            "64/64 [==============================] - 1s 19ms/step - loss: 0.2358 - acc: 0.9046 - val_loss: 0.2482 - val_acc: 0.8969 - lr: 0.0010\n",
            "Epoch 7/50\n",
            "64/64 [==============================] - ETA: 0s - loss: 0.2466 - acc: 0.8984\n",
            "Epoch 7: ReduceLROnPlateau reducing learning rate to 0.00010000000474974513.\n",
            "64/64 [==============================] - 1s 19ms/step - loss: 0.2466 - acc: 0.8984 - val_loss: 0.3122 - val_acc: 0.8562 - lr: 0.0010\n",
            "Epoch 8/50\n",
            "64/64 [==============================] - 1s 19ms/step - loss: 0.2186 - acc: 0.9109 - val_loss: 0.2548 - val_acc: 0.8781 - lr: 1.0000e-04\n",
            "Epoch 9/50\n",
            "64/64 [==============================] - 1s 19ms/step - loss: 0.1772 - acc: 0.9289 - val_loss: 0.2410 - val_acc: 0.8906 - lr: 1.0000e-04\n",
            "Epoch 10/50\n",
            "64/64 [==============================] - 1s 18ms/step - loss: 0.1716 - acc: 0.9249 - val_loss: 0.2444 - val_acc: 0.8906 - lr: 1.0000e-04\n",
            "Epoch 11/50\n",
            "64/64 [==============================] - 1s 19ms/step - loss: 0.1557 - acc: 0.9320 - val_loss: 0.2478 - val_acc: 0.8938 - lr: 1.0000e-04\n",
            "Epoch 12/50\n",
            "64/64 [==============================] - 1s 19ms/step - loss: 0.1498 - acc: 0.9375 - val_loss: 0.2490 - val_acc: 0.8906 - lr: 1.0000e-04\n",
            "Epoch 13/50\n",
            "64/64 [==============================] - 1s 18ms/step - loss: 0.1474 - acc: 0.9421 - val_loss: 0.2375 - val_acc: 0.8938 - lr: 1.0000e-04\n",
            "Epoch 14/50\n",
            "64/64 [==============================] - 1s 17ms/step - loss: 0.1426 - acc: 0.9398 - val_loss: 0.2413 - val_acc: 0.8906 - lr: 1.0000e-04\n",
            "Epoch 15/50\n",
            "64/64 [==============================] - 1s 18ms/step - loss: 0.1332 - acc: 0.9476 - val_loss: 0.2404 - val_acc: 0.8906 - lr: 1.0000e-04\n",
            "Epoch 16/50\n",
            "64/64 [==============================] - 1s 18ms/step - loss: 0.1271 - acc: 0.9492 - val_loss: 0.2466 - val_acc: 0.8969 - lr: 1.0000e-04\n",
            "Epoch 17/50\n",
            "64/64 [==============================] - 1s 18ms/step - loss: 0.1388 - acc: 0.9429 - val_loss: 0.2518 - val_acc: 0.9031 - lr: 1.0000e-04\n",
            "Epoch 18/50\n",
            "64/64 [==============================] - 1s 17ms/step - loss: 0.1175 - acc: 0.9539 - val_loss: 0.2541 - val_acc: 0.8969 - lr: 1.0000e-04\n",
            "Epoch 19/50\n",
            "64/64 [==============================] - 1s 18ms/step - loss: 0.1224 - acc: 0.9468 - val_loss: 0.2526 - val_acc: 0.9031 - lr: 1.0000e-04\n",
            "Epoch 20/50\n",
            "61/64 [===========================>..] - ETA: 0s - loss: 0.1181 - acc: 0.9582\n",
            "Epoch 20: ReduceLROnPlateau reducing learning rate to 1.0000000474974514e-05.\n",
            "64/64 [==============================] - 1s 18ms/step - loss: 0.1194 - acc: 0.9570 - val_loss: 0.2502 - val_acc: 0.9000 - lr: 1.0000e-04\n",
            "Epoch 21/50\n",
            "64/64 [==============================] - 1s 18ms/step - loss: 0.1151 - acc: 0.9523 - val_loss: 0.2505 - val_acc: 0.9000 - lr: 1.0000e-05\n",
            "Epoch 22/50\n",
            "64/64 [==============================] - 1s 18ms/step - loss: 0.1181 - acc: 0.9500 - val_loss: 0.2506 - val_acc: 0.9000 - lr: 1.0000e-05\n",
            "Epoch 23/50\n",
            "64/64 [==============================] - 1s 18ms/step - loss: 0.1108 - acc: 0.9547 - val_loss: 0.2519 - val_acc: 0.9031 - lr: 1.0000e-05\n",
            "Epoch 24/50\n",
            "64/64 [==============================] - 1s 17ms/step - loss: 0.1083 - acc: 0.9539 - val_loss: 0.2516 - val_acc: 0.9031 - lr: 1.0000e-05\n",
            "Epoch 25/50\n",
            "64/64 [==============================] - 1s 17ms/step - loss: 0.1046 - acc: 0.9570 - val_loss: 0.2535 - val_acc: 0.9000 - lr: 1.0000e-05\n",
            "Epoch 26/50\n",
            "64/64 [==============================] - 1s 17ms/step - loss: 0.1068 - acc: 0.9609 - val_loss: 0.2555 - val_acc: 0.9031 - lr: 1.0000e-05\n",
            "Epoch 27/50\n",
            "63/64 [============================>.] - ETA: 0s - loss: 0.1044 - acc: 0.9595\n",
            "Epoch 27: ReduceLROnPlateau reducing learning rate to 1e-05.\n",
            "64/64 [==============================] - 1s 19ms/step - loss: 0.1063 - acc: 0.9593 - val_loss: 0.2554 - val_acc: 0.9031 - lr: 1.0000e-05\n",
            "Epoch 28/50\n",
            "64/64 [==============================] - 1s 18ms/step - loss: 0.1039 - acc: 0.9664 - val_loss: 0.2541 - val_acc: 0.9000 - lr: 1.0000e-05\n",
            "Epoch 29/50\n",
            "64/64 [==============================] - 1s 18ms/step - loss: 0.1041 - acc: 0.9593 - val_loss: 0.2548 - val_acc: 0.9062 - lr: 1.0000e-05\n",
            "Epoch 30/50\n",
            "64/64 [==============================] - 1s 17ms/step - loss: 0.1150 - acc: 0.9547 - val_loss: 0.2538 - val_acc: 0.9062 - lr: 1.0000e-05\n",
            "Epoch 31/50\n",
            "64/64 [==============================] - 1s 18ms/step - loss: 0.1045 - acc: 0.9586 - val_loss: 0.2535 - val_acc: 0.9125 - lr: 1.0000e-05\n",
            "Epoch 32/50\n",
            "64/64 [==============================] - 1s 19ms/step - loss: 0.0974 - acc: 0.9633 - val_loss: 0.2551 - val_acc: 0.9094 - lr: 1.0000e-05\n",
            "Epoch 33/50\n",
            "64/64 [==============================] - 1s 17ms/step - loss: 0.1118 - acc: 0.9523 - val_loss: 0.2532 - val_acc: 0.9094 - lr: 1.0000e-05\n",
            "Epoch 34/50\n",
            "64/64 [==============================] - 1s 19ms/step - loss: 0.1097 - acc: 0.9601 - val_loss: 0.2519 - val_acc: 0.9062 - lr: 1.0000e-05\n",
            "Epoch 35/50\n",
            "64/64 [==============================] - 1s 18ms/step - loss: 0.1100 - acc: 0.9554 - val_loss: 0.2543 - val_acc: 0.9094 - lr: 1.0000e-05\n",
            "Epoch 36/50\n",
            "64/64 [==============================] - 1s 19ms/step - loss: 0.1149 - acc: 0.9554 - val_loss: 0.2534 - val_acc: 0.9094 - lr: 1.0000e-05\n",
            "Epoch 37/50\n",
            "64/64 [==============================] - 1s 17ms/step - loss: 0.1027 - acc: 0.9601 - val_loss: 0.2532 - val_acc: 0.9062 - lr: 1.0000e-05\n",
            "Epoch 38/50\n",
            "64/64 [==============================] - 1s 18ms/step - loss: 0.1091 - acc: 0.9547 - val_loss: 0.2517 - val_acc: 0.9062 - lr: 1.0000e-05\n",
            "Epoch 39/50\n",
            "64/64 [==============================] - 1s 18ms/step - loss: 0.1003 - acc: 0.9648 - val_loss: 0.2522 - val_acc: 0.9094 - lr: 1.0000e-05\n",
            "Epoch 40/50\n",
            "64/64 [==============================] - 1s 18ms/step - loss: 0.1078 - acc: 0.9547 - val_loss: 0.2516 - val_acc: 0.9062 - lr: 1.0000e-05\n",
            "Epoch 41/50\n",
            "64/64 [==============================] - 1s 18ms/step - loss: 0.0971 - acc: 0.9617 - val_loss: 0.2523 - val_acc: 0.9062 - lr: 1.0000e-05\n",
            "Epoch 42/50\n",
            "64/64 [==============================] - 1s 18ms/step - loss: 0.1014 - acc: 0.9578 - val_loss: 0.2532 - val_acc: 0.9031 - lr: 1.0000e-05\n",
            "Epoch 43/50\n",
            "64/64 [==============================] - 1s 19ms/step - loss: 0.0993 - acc: 0.9593 - val_loss: 0.2538 - val_acc: 0.9031 - lr: 1.0000e-05\n",
            "Epoch 44/50\n",
            "64/64 [==============================] - 1s 17ms/step - loss: 0.0961 - acc: 0.9640 - val_loss: 0.2536 - val_acc: 0.9062 - lr: 1.0000e-05\n",
            "Epoch 45/50\n",
            "64/64 [==============================] - 1s 18ms/step - loss: 0.1066 - acc: 0.9562 - val_loss: 0.2528 - val_acc: 0.9094 - lr: 1.0000e-05\n",
            "Epoch 46/50\n",
            "64/64 [==============================] - 1s 17ms/step - loss: 0.0976 - acc: 0.9633 - val_loss: 0.2521 - val_acc: 0.9094 - lr: 1.0000e-05\n",
            "Epoch 47/50\n",
            "64/64 [==============================] - 1s 18ms/step - loss: 0.1026 - acc: 0.9609 - val_loss: 0.2520 - val_acc: 0.9062 - lr: 1.0000e-05\n",
            "Epoch 48/50\n",
            "64/64 [==============================] - 1s 18ms/step - loss: 0.1004 - acc: 0.9601 - val_loss: 0.2514 - val_acc: 0.9094 - lr: 1.0000e-05\n",
            "Epoch 49/50\n",
            "64/64 [==============================] - 1s 17ms/step - loss: 0.1046 - acc: 0.9633 - val_loss: 0.2543 - val_acc: 0.9094 - lr: 1.0000e-05\n",
            "Epoch 50/50\n",
            "64/64 [==============================] - 1s 18ms/step - loss: 0.1031 - acc: 0.9593 - val_loss: 0.2518 - val_acc: 0.9062 - lr: 1.0000e-05\n"
          ]
        }
      ],
      "source": [
        "history = model.fit(train_features, \n",
        "                    train_labels, \n",
        "                    epochs=50,\n",
        "                    batch_size=BATCH_SIZE,\n",
        "                    shuffle=True,\n",
        "                    validation_split=0.2,\n",
        "                    callbacks=callbacks)"
      ]
    },
    {
      "cell_type": "code",
      "execution_count": 21,
      "metadata": {
        "colab": {
          "base_uri": "https://localhost:8080/",
          "height": 353
        },
        "id": "YOkFU9tKxHsv",
        "outputId": "9c1deafd-2f5f-4854-c67b-a0ecf6d4709c"
      },
      "outputs": [
        {
          "output_type": "execute_result",
          "data": {
            "text/plain": [
              "<matplotlib.legend.Legend at 0x7f35d61a2e90>"
            ]
          },
          "metadata": {},
          "execution_count": 21
        },
        {
          "output_type": "display_data",
          "data": {
            "text/plain": [
              "<Figure size 720x360 with 2 Axes>"
            ],
            "image/png": "[encoded data removed]"
          },
          "metadata": {
            "needs_background": "light"
          }
        }
      ],
      "source": [
        "fig, ax = plt.subplots(1, 2, figsize=(10,5))\n",
        "acc = history.history['acc']\n",
        "val_acc = history.history['val_acc']\n",
        "loss = history.history['loss']\n",
        "val_loss = history.history['val_loss']\n",
        "epochs = range(1, len(acc) + 1)\n",
        "\n",
        "ax[0].set_title('Training and validation accuracy')\n",
        "ax[0].plot(epochs, acc, 'red', label='Training acc')\n",
        "ax[0].plot(epochs, val_acc, 'blue', label='Validation acc')\n",
        "\n",
        "ax[1].set_title('Training and validation loss')\n",
        "ax[1].plot(epochs, loss, 'red', label='Training loss')\n",
        "ax[1].plot(epochs, val_loss, 'blue', label='Validation loss')\n",
        "\n",
        "ax[0].legend()\n",
        "ax[1].legend()"
      ]
    },
    {
      "cell_type": "code",
      "execution_count": 22,
      "metadata": {
        "id": "YvTmWhg71hNV"
      },
      "outputs": [],
      "source": [
        "preds = model.predict(train_features)"
      ]
    },
    {
      "cell_type": "code",
      "execution_count": 23,
      "metadata": {
        "id": "TQsO0cUJ2JQL",
        "colab": {
          "base_uri": "https://localhost:8080/"
        },
        "outputId": "b624af65-4309-40e7-9371-ddfc90f47946"
      },
      "outputs": [
        {
          "output_type": "stream",
          "name": "stdout",
          "text": [
            "[]\n"
          ]
        }
      ],
      "source": [
        "# Change labels from one-hot encoded\n",
        "predictions = [i.argmax() for i in preds]\n",
        "y_true = [i.argmax() for i in train_labels]\n",
        "\n",
        "s = set(y_true)\n",
        "temp3 = [x for x in predictions if x not in s]\n",
        "print(temp3)"
      ]
    },
    {
      "cell_type": "code",
      "source": [
        "predictions[0]"
      ],
      "metadata": {
        "colab": {
          "base_uri": "https://localhost:8080/"
        },
        "id": "8oNtCDWYnk4a",
        "outputId": "d8270d78-caae-46cd-82bd-d549372a6ffb"
      },
      "execution_count": 24,
      "outputs": [
        {
          "output_type": "execute_result",
          "data": {
            "text/plain": [
              "1"
            ]
          },
          "metadata": {},
          "execution_count": 24
        }
      ]
    },
    {
      "cell_type": "code",
      "source": [
        "y_true[0]"
      ],
      "metadata": {
        "id": "MkqLDwD8npv_",
        "outputId": "3b531419-1302-4899-9cd4-897da30ba30d",
        "colab": {
          "base_uri": "https://localhost:8080/"
        }
      },
      "execution_count": 25,
      "outputs": [
        {
          "output_type": "execute_result",
          "data": {
            "text/plain": [
              "1"
            ]
          },
          "metadata": {},
          "execution_count": 25
        }
      ]
    },
    {
      "cell_type": "code",
      "execution_count": 26,
      "metadata": {
        "id": "gb9p5lV91oYm"
      },
      "outputs": [],
      "source": [
        "def plot_confusion_matrix(cm, target_names,title='Confusion matrix',cmap=None,normalize=False):\n",
        "    accuracy = np.trace(cm) / float(np.sum(cm))\n",
        "    misclass = 1 - accuracy\n",
        "    if cmap is None:\n",
        "        cmap = plt.get_cmap('Blues')\n",
        "    plt.figure(figsize=(10, 8))\n",
        "    plt.imshow(cm, interpolation='nearest', cmap=cmap)\n",
        "    plt.title(title)\n",
        "    plt.colorbar()\n",
        "\n",
        "    if target_names is not None:\n",
        "        tick_marks = np.arange(len(target_names))\n",
        "        plt.xticks(tick_marks, target_names, rotation=45)\n",
        "        plt.yticks(tick_marks, target_names)\n",
        "\n",
        "    if normalize:\n",
        "        cm = cm.astype('float32') / cm.sum(axis=1)\n",
        "        cm = np.round(cm,2)\n",
        "        \n",
        "\n",
        "    thresh = cm.max() / 1.5 if normalize else cm.max() / 2\n",
        "    for i, j in itertools.product(range(cm.shape[0]), range(cm.shape[1])):\n",
        "        if normalize:\n",
        "            plt.text(j, i, \"{:0.2f}\".format(cm[i, j]),\n",
        "                     horizontalalignment=\"center\",\n",
        "                     color=\"white\" if cm[i, j] > thresh else \"black\")\n",
        "        else:\n",
        "            plt.text(j, i, \"{:,}\".format(cm[i, j]),\n",
        "                     horizontalalignment=\"center\",\n",
        "                     color=\"white\" if cm[i, j] > thresh else \"black\")\n",
        "\n",
        "    plt.tight_layout()\n",
        "    plt.ylabel('True label')\n",
        "    plt.xlabel(\"Predicted label\\naccuracy={:0.4f}\\n misclass={:0.4f}\".format(accuracy, misclass))\n",
        "    plt.show()"
      ]
    },
    {
      "cell_type": "code",
      "execution_count": 27,
      "metadata": {
        "colab": {
          "base_uri": "https://localhost:8080/",
          "height": 831
        },
        "id": "MVkSn6Nh155k",
        "outputId": "6e9246f4-8c87-4330-d240-996b9f8bfafd"
      },
      "outputs": [
        {
          "output_type": "display_data",
          "data": {
            "text/plain": [
              "<Figure size 720x576 with 2 Axes>"
            ],
            "image/png": "[encoded data removed]"
          },
          "metadata": {
            "needs_background": "light"
          }
        },
        {
          "output_type": "stream",
          "name": "stdout",
          "text": [
            "Classification Report:\n",
            "----------------------\n",
            "               precision    recall  f1-score   support\n",
            "\n",
            "    NEGATIVE       0.92      0.96      0.94       531\n",
            "     NEUTRAL       0.99      0.99      0.99       537\n",
            "    POSITIVE       0.95      0.91      0.93       531\n",
            "\n",
            "    accuracy                           0.95      1599\n",
            "   macro avg       0.96      0.95      0.95      1599\n",
            "weighted avg       0.96      0.95      0.95      1599\n",
            "\n"
          ]
        }
      ],
      "source": [
        "cm = confusion_matrix(y_pred=predictions, y_true=y_true)\n",
        "clr = classification_report(y_true, predictions, target_names=CLASSES)\n",
        "plot_confusion_matrix(cm, normalize=True, target_names=CLASSES)\n",
        "print(\"Classification Report:\\n----------------------\\n\", clr)"
      ]
    },
    {
      "cell_type": "code",
      "execution_count": null,
      "metadata": {
        "id": "K77dCUJB3-1A"
      },
      "outputs": [],
      "source": [
        ""
      ]
    }
  ],
  "metadata": {
    "colab": {
      "collapsed_sections": [],
      "name": "Xception_Model",
      "provenance": [],
      "mount_file_id": "https://github.com/muhammadali122/Human-Emotion-Detection/blob/main/Xception_Model.ipynb",
      "authorship_tag": "ABX9TyOzSan/u2kIsYLmElkd0B2O",
      "include_colab_link": true
    },
    "kernelspec": {
      "display_name": "Python 3",
      "name": "python3"
    },
    "language_info": {
      "name": "python"
    },
    "accelerator": "GPU",
    "gpuClass": "standard"
  },
  "nbformat": 4,
  "nbformat_minor": 0
}