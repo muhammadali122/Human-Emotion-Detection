{
 "cells": [
  {
   "cell_type": "code",
   "execution_count": 90,
   "id": "ffdd7c35",
   "metadata": {
    "pycharm": {
     "name": "#%%\n"
    }
   },
   "outputs": [],
   "source": [
    "import cv2\n",
    "import datetime as dt\n",
    "import glob\n",
    "import itertools\n",
    "import matplotlib.pylab as plt\n",
    "import numpy as np\n",
    "import pandas as pd\n",
    "from keras import models, layers, optimizers\n",
    "from tensorflow.keras.applications import Xception\n",
    "from keras.callbacks import ReduceLROnPlateau\n",
    "from keras.preprocessing.image import ImageDataGenerator\n",
    "from pathlib import Path\n",
    "from sklearn.metrics import confusion_matrix, classification_report"
   ]
  },
  {
   "cell_type": "code",
   "execution_count": 47,
   "id": "998a4a34",
   "metadata": {
    "pycharm": {
     "name": "#%%\n"
    }
   },
   "outputs": [],
   "source": [
    "train_path = 'C:/Users\\Muhammad_Ali/dataset/train'\n",
    "val_path = 'C:/Users\\Muhammad_Ali/dataset/test'"
   ]
  },
  {
   "cell_type": "code",
   "execution_count": 48,
   "id": "8ba3715a",
   "metadata": {
    "pycharm": {
     "name": "#%%\n"
    }
   },
   "outputs": [],
   "source": [
    "# re-size all the images to a size Xception_model expects.\n",
    "IMAGE_SIZE = [224, 224]\n",
    "\n",
    "# Set the batch size\n",
    "BATCH_SIZE = 15 \n",
    "NUM_EPOCHS = 5\n",
    "LEARNING_RATE = 0.0001\n",
    "NUM_CLASSES = 3"
   ]
  },
  {
   "cell_type": "code",
   "execution_count": 49,
   "id": "624c3ad3",
   "metadata": {
    "pycharm": {
     "name": "#%%\n"
    }
   },
   "outputs": [],
   "source": [
    "import os\n",
    "CLASSES = os.listdir(train_path)\n",
    "NUM_CLASSES = len(CLASSES)"
   ]
  },
  {
   "cell_type": "code",
   "execution_count": 50,
   "id": "726224a3",
   "metadata": {
    "pycharm": {
     "name": "#%%\n"
    }
   },
   "outputs": [
    {
     "name": "stdout",
     "output_type": "stream",
     "text": [
      "Class --> ['NEGATIVE', 'NEUTRAL', 'POSITIVE'] \n",
      " and the length is : 3\n"
     ]
    }
   ],
   "source": [
    "print(\"Class --> {} \\n and the length is : {}\".format(CLASSES, NUM_CLASSES))"
   ]
  },
  {
   "cell_type": "code",
   "execution_count": 51,
   "id": "102b7d2e",
   "metadata": {
    "pycharm": {
     "name": "#%%\n"
    }
   },
   "outputs": [
    {
     "data": {
      "text/plain": [
       "['NEGATIVE', 'NEUTRAL', 'POSITIVE']"
      ]
     },
     "execution_count": 51,
     "metadata": {},
     "output_type": "execute_result"
    }
   ],
   "source": [
    "CLASSES"
   ]
  },
  {
   "cell_type": "code",
   "execution_count": 55,
   "id": "5de43f1b",
   "metadata": {
    "pycharm": {
     "name": "#%%\n"
    }
   },
   "outputs": [
    {
     "name": "stdout",
     "output_type": "stream",
     "text": [
      "Found 1599 images belonging to 3 classes.\n",
      "Found 533 images belonging to 3 classes.\n"
     ]
    }
   ],
   "source": [
    "train_datagen = ImageDataGenerator(\n",
    "    rescale=1./255,\n",
    "    shear_range = 0.2,\n",
    "    zoom_range = 0.2\n",
    ")\n",
    "train_generator = train_datagen.flow_from_directory(train_path, \n",
    "                                                    target_size=IMAGE_SIZE,\n",
    "                                                    batch_size=BATCH_SIZE,\n",
    "                                                    class_mode='categorical')\n",
    "\n",
    "# Test generator\n",
    "test_datagen = ImageDataGenerator(rescale=1./255)\n",
    "test_generator = test_datagen.flow_from_directory(val_path, \n",
    "                                                  target_size=IMAGE_SIZE, \n",
    "                                                  batch_size=BATCH_SIZE,\n",
    "                                                  class_mode='categorical')"
   ]
  },
  {
   "cell_type": "code",
   "execution_count": 56,
   "id": "8c891e86",
   "metadata": {
    "pycharm": {
     "name": "#%%\n"
    }
   },
   "outputs": [],
   "source": [
    "# Initialize the base model\n",
    "base_model = Xception(weights='imagenet',\n",
    "                      include_top=False,\n",
    "                      input_shape=(224,224, 3))"
   ]
  },
  {
   "cell_type": "code",
   "execution_count": 57,
   "id": "138dd7d9",
   "metadata": {
    "pycharm": {
     "name": "#%%\n"
    }
   },
   "outputs": [
    {
     "name": "stdout",
     "output_type": "stream",
     "text": [
      "Model: \"xception\"\n",
      "__________________________________________________________________________________________________\n",
      " Layer (type)                   Output Shape         Param #     Connected to                     \n",
      "==================================================================================================\n",
      " input_3 (InputLayer)           [(None, 224, 224, 3  0           []                               \n",
      "                                )]                                                                \n",
      "                                                                                                  \n",
      " block1_conv1 (Conv2D)          (None, 111, 111, 32  864         ['input_3[0][0]']                \n",
      "                                )                                                                 \n",
      "                                                                                                  \n",
      " block1_conv1_bn (BatchNormaliz  (None, 111, 111, 32  128        ['block1_conv1[0][0]']           \n",
      " ation)                         )                                                                 \n",
      "                                                                                                  \n",
      " block1_conv1_act (Activation)  (None, 111, 111, 32  0           ['block1_conv1_bn[0][0]']        \n",
      "                                )                                                                 \n",
      "                                                                                                  \n",
      " block1_conv2 (Conv2D)          (None, 109, 109, 64  18432       ['block1_conv1_act[0][0]']       \n",
      "                                )                                                                 \n",
      "                                                                                                  \n",
      " block1_conv2_bn (BatchNormaliz  (None, 109, 109, 64  256        ['block1_conv2[0][0]']           \n",
      " ation)                         )                                                                 \n",
      "                                                                                                  \n",
      " block1_conv2_act (Activation)  (None, 109, 109, 64  0           ['block1_conv2_bn[0][0]']        \n",
      "                                )                                                                 \n",
      "                                                                                                  \n",
      " block2_sepconv1 (SeparableConv  (None, 109, 109, 12  8768       ['block1_conv2_act[0][0]']       \n",
      " 2D)                            8)                                                                \n",
      "                                                                                                  \n",
      " block2_sepconv1_bn (BatchNorma  (None, 109, 109, 12  512        ['block2_sepconv1[0][0]']        \n",
      " lization)                      8)                                                                \n",
      "                                                                                                  \n",
      " block2_sepconv2_act (Activatio  (None, 109, 109, 12  0          ['block2_sepconv1_bn[0][0]']     \n",
      " n)                             8)                                                                \n",
      "                                                                                                  \n",
      " block2_sepconv2 (SeparableConv  (None, 109, 109, 12  17536      ['block2_sepconv2_act[0][0]']    \n",
      " 2D)                            8)                                                                \n",
      "                                                                                                  \n",
      " block2_sepconv2_bn (BatchNorma  (None, 109, 109, 12  512        ['block2_sepconv2[0][0]']        \n",
      " lization)                      8)                                                                \n",
      "                                                                                                  \n",
      " conv2d_8 (Conv2D)              (None, 55, 55, 128)  8192        ['block1_conv2_act[0][0]']       \n",
      "                                                                                                  \n",
      " block2_pool (MaxPooling2D)     (None, 55, 55, 128)  0           ['block2_sepconv2_bn[0][0]']     \n",
      "                                                                                                  \n",
      " batch_normalization_8 (BatchNo  (None, 55, 55, 128)  512        ['conv2d_8[0][0]']               \n",
      " rmalization)                                                                                     \n",
      "                                                                                                  \n",
      " add_24 (Add)                   (None, 55, 55, 128)  0           ['block2_pool[0][0]',            \n",
      "                                                                  'batch_normalization_8[0][0]']  \n",
      "                                                                                                  \n",
      " block3_sepconv1_act (Activatio  (None, 55, 55, 128)  0          ['add_24[0][0]']                 \n",
      " n)                                                                                               \n",
      "                                                                                                  \n",
      " block3_sepconv1 (SeparableConv  (None, 55, 55, 256)  33920      ['block3_sepconv1_act[0][0]']    \n",
      " 2D)                                                                                              \n",
      "                                                                                                  \n",
      " block3_sepconv1_bn (BatchNorma  (None, 55, 55, 256)  1024       ['block3_sepconv1[0][0]']        \n",
      " lization)                                                                                        \n",
      "                                                                                                  \n",
      " block3_sepconv2_act (Activatio  (None, 55, 55, 256)  0          ['block3_sepconv1_bn[0][0]']     \n",
      " n)                                                                                               \n",
      "                                                                                                  \n",
      " block3_sepconv2 (SeparableConv  (None, 55, 55, 256)  67840      ['block3_sepconv2_act[0][0]']    \n",
      " 2D)                                                                                              \n",
      "                                                                                                  \n",
      " block3_sepconv2_bn (BatchNorma  (None, 55, 55, 256)  1024       ['block3_sepconv2[0][0]']        \n",
      " lization)                                                                                        \n",
      "                                                                                                  \n",
      " conv2d_9 (Conv2D)              (None, 28, 28, 256)  32768       ['add_24[0][0]']                 \n",
      "                                                                                                  \n",
      " block3_pool (MaxPooling2D)     (None, 28, 28, 256)  0           ['block3_sepconv2_bn[0][0]']     \n",
      "                                                                                                  \n",
      " batch_normalization_9 (BatchNo  (None, 28, 28, 256)  1024       ['conv2d_9[0][0]']               \n",
      " rmalization)                                                                                     \n",
      "                                                                                                  \n",
      " add_25 (Add)                   (None, 28, 28, 256)  0           ['block3_pool[0][0]',            \n",
      "                                                                  'batch_normalization_9[0][0]']  \n",
      "                                                                                                  \n",
      " block4_sepconv1_act (Activatio  (None, 28, 28, 256)  0          ['add_25[0][0]']                 \n",
      " n)                                                                                               \n",
      "                                                                                                  \n",
      " block4_sepconv1 (SeparableConv  (None, 28, 28, 728)  188672     ['block4_sepconv1_act[0][0]']    \n",
      " 2D)                                                                                              \n",
      "                                                                                                  \n",
      " block4_sepconv1_bn (BatchNorma  (None, 28, 28, 728)  2912       ['block4_sepconv1[0][0]']        \n",
      " lization)                                                                                        \n",
      "                                                                                                  \n",
      " block4_sepconv2_act (Activatio  (None, 28, 28, 728)  0          ['block4_sepconv1_bn[0][0]']     \n",
      " n)                                                                                               \n",
      "                                                                                                  \n",
      " block4_sepconv2 (SeparableConv  (None, 28, 28, 728)  536536     ['block4_sepconv2_act[0][0]']    \n",
      " 2D)                                                                                              \n",
      "                                                                                                  \n",
      " block4_sepconv2_bn (BatchNorma  (None, 28, 28, 728)  2912       ['block4_sepconv2[0][0]']        \n",
      " lization)                                                                                        \n",
      "                                                                                                  \n",
      " conv2d_10 (Conv2D)             (None, 14, 14, 728)  186368      ['add_25[0][0]']                 \n",
      "                                                                                                  \n",
      " block4_pool (MaxPooling2D)     (None, 14, 14, 728)  0           ['block4_sepconv2_bn[0][0]']     \n",
      "                                                                                                  \n",
      " batch_normalization_10 (BatchN  (None, 14, 14, 728)  2912       ['conv2d_10[0][0]']              \n",
      " ormalization)                                                                                    \n",
      "                                                                                                  \n",
      " add_26 (Add)                   (None, 14, 14, 728)  0           ['block4_pool[0][0]',            \n",
      "                                                                  'batch_normalization_10[0][0]'] \n",
      "                                                                                                  \n",
      " block5_sepconv1_act (Activatio  (None, 14, 14, 728)  0          ['add_26[0][0]']                 \n",
      " n)                                                                                               \n",
      "                                                                                                  \n",
      " block5_sepconv1 (SeparableConv  (None, 14, 14, 728)  536536     ['block5_sepconv1_act[0][0]']    \n",
      " 2D)                                                                                              \n",
      "                                                                                                  \n",
      " block5_sepconv1_bn (BatchNorma  (None, 14, 14, 728)  2912       ['block5_sepconv1[0][0]']        \n",
      " lization)                                                                                        \n",
      "                                                                                                  \n",
      " block5_sepconv2_act (Activatio  (None, 14, 14, 728)  0          ['block5_sepconv1_bn[0][0]']     \n",
      " n)                                                                                               \n",
      "                                                                                                  \n",
      " block5_sepconv2 (SeparableConv  (None, 14, 14, 728)  536536     ['block5_sepconv2_act[0][0]']    \n",
      " 2D)                                                                                              \n",
      "                                                                                                  \n",
      " block5_sepconv2_bn (BatchNorma  (None, 14, 14, 728)  2912       ['block5_sepconv2[0][0]']        \n",
      " lization)                                                                                        \n",
      "                                                                                                  \n",
      " block5_sepconv3_act (Activatio  (None, 14, 14, 728)  0          ['block5_sepconv2_bn[0][0]']     \n",
      " n)                                                                                               \n",
      "                                                                                                  \n",
      " block5_sepconv3 (SeparableConv  (None, 14, 14, 728)  536536     ['block5_sepconv3_act[0][0]']    \n",
      " 2D)                                                                                              \n",
      "                                                                                                  \n",
      " block5_sepconv3_bn (BatchNorma  (None, 14, 14, 728)  2912       ['block5_sepconv3[0][0]']        \n",
      " lization)                                                                                        \n",
      "                                                                                                  \n",
      " add_27 (Add)                   (None, 14, 14, 728)  0           ['block5_sepconv3_bn[0][0]',     \n",
      "                                                                  'add_26[0][0]']                 \n",
      "                                                                                                  \n",
      " block6_sepconv1_act (Activatio  (None, 14, 14, 728)  0          ['add_27[0][0]']                 \n",
      " n)                                                                                               \n",
      "                                                                                                  \n",
      " block6_sepconv1 (SeparableConv  (None, 14, 14, 728)  536536     ['block6_sepconv1_act[0][0]']    \n",
      " 2D)                                                                                              \n",
      "                                                                                                  \n",
      " block6_sepconv1_bn (BatchNorma  (None, 14, 14, 728)  2912       ['block6_sepconv1[0][0]']        \n",
      " lization)                                                                                        \n",
      "                                                                                                  \n",
      " block6_sepconv2_act (Activatio  (None, 14, 14, 728)  0          ['block6_sepconv1_bn[0][0]']     \n",
      " n)                                                                                               \n",
      "                                                                                                  \n",
      " block6_sepconv2 (SeparableConv  (None, 14, 14, 728)  536536     ['block6_sepconv2_act[0][0]']    \n",
      " 2D)                                                                                              \n",
      "                                                                                                  \n",
      " block6_sepconv2_bn (BatchNorma  (None, 14, 14, 728)  2912       ['block6_sepconv2[0][0]']        \n",
      " lization)                                                                                        \n",
      "                                                                                                  \n",
      " block6_sepconv3_act (Activatio  (None, 14, 14, 728)  0          ['block6_sepconv2_bn[0][0]']     \n",
      " n)                                                                                               \n",
      "                                                                                                  \n",
      " block6_sepconv3 (SeparableConv  (None, 14, 14, 728)  536536     ['block6_sepconv3_act[0][0]']    \n",
      " 2D)                                                                                              \n",
      "                                                                                                  \n",
      " block6_sepconv3_bn (BatchNorma  (None, 14, 14, 728)  2912       ['block6_sepconv3[0][0]']        \n",
      " lization)                                                                                        \n",
      "                                                                                                  \n",
      " add_28 (Add)                   (None, 14, 14, 728)  0           ['block6_sepconv3_bn[0][0]',     \n",
      "                                                                  'add_27[0][0]']                 \n",
      "                                                                                                  \n",
      " block7_sepconv1_act (Activatio  (None, 14, 14, 728)  0          ['add_28[0][0]']                 \n",
      " n)                                                                                               \n",
      "                                                                                                  \n",
      " block7_sepconv1 (SeparableConv  (None, 14, 14, 728)  536536     ['block7_sepconv1_act[0][0]']    \n",
      " 2D)                                                                                              \n",
      "                                                                                                  \n",
      " block7_sepconv1_bn (BatchNorma  (None, 14, 14, 728)  2912       ['block7_sepconv1[0][0]']        \n",
      " lization)                                                                                        \n",
      "                                                                                                  \n",
      " block7_sepconv2_act (Activatio  (None, 14, 14, 728)  0          ['block7_sepconv1_bn[0][0]']     \n",
      " n)                                                                                               \n",
      "                                                                                                  \n",
      " block7_sepconv2 (SeparableConv  (None, 14, 14, 728)  536536     ['block7_sepconv2_act[0][0]']    \n",
      " 2D)                                                                                              \n",
      "                                                                                                  \n",
      " block7_sepconv2_bn (BatchNorma  (None, 14, 14, 728)  2912       ['block7_sepconv2[0][0]']        \n",
      " lization)                                                                                        \n",
      "                                                                                                  \n",
      " block7_sepconv3_act (Activatio  (None, 14, 14, 728)  0          ['block7_sepconv2_bn[0][0]']     \n",
      " n)                                                                                               \n",
      "                                                                                                  \n",
      " block7_sepconv3 (SeparableConv  (None, 14, 14, 728)  536536     ['block7_sepconv3_act[0][0]']    \n",
      " 2D)                                                                                              \n",
      "                                                                                                  \n",
      " block7_sepconv3_bn (BatchNorma  (None, 14, 14, 728)  2912       ['block7_sepconv3[0][0]']        \n",
      " lization)                                                                                        \n",
      "                                                                                                  \n",
      " add_29 (Add)                   (None, 14, 14, 728)  0           ['block7_sepconv3_bn[0][0]',     \n",
      "                                                                  'add_28[0][0]']                 \n",
      "                                                                                                  \n",
      " block8_sepconv1_act (Activatio  (None, 14, 14, 728)  0          ['add_29[0][0]']                 \n",
      " n)                                                                                               \n",
      "                                                                                                  \n",
      " block8_sepconv1 (SeparableConv  (None, 14, 14, 728)  536536     ['block8_sepconv1_act[0][0]']    \n",
      " 2D)                                                                                              \n",
      "                                                                                                  \n",
      " block8_sepconv1_bn (BatchNorma  (None, 14, 14, 728)  2912       ['block8_sepconv1[0][0]']        \n",
      " lization)                                                                                        \n",
      "                                                                                                  \n",
      " block8_sepconv2_act (Activatio  (None, 14, 14, 728)  0          ['block8_sepconv1_bn[0][0]']     \n",
      " n)                                                                                               \n",
      "                                                                                                  \n",
      " block8_sepconv2 (SeparableConv  (None, 14, 14, 728)  536536     ['block8_sepconv2_act[0][0]']    \n",
      " 2D)                                                                                              \n",
      "                                                                                                  \n",
      " block8_sepconv2_bn (BatchNorma  (None, 14, 14, 728)  2912       ['block8_sepconv2[0][0]']        \n",
      " lization)                                                                                        \n",
      "                                                                                                  \n",
      " block8_sepconv3_act (Activatio  (None, 14, 14, 728)  0          ['block8_sepconv2_bn[0][0]']     \n",
      " n)                                                                                               \n",
      "                                                                                                  \n",
      " block8_sepconv3 (SeparableConv  (None, 14, 14, 728)  536536     ['block8_sepconv3_act[0][0]']    \n",
      " 2D)                                                                                              \n",
      "                                                                                                  \n",
      " block8_sepconv3_bn (BatchNorma  (None, 14, 14, 728)  2912       ['block8_sepconv3[0][0]']        \n",
      " lization)                                                                                        \n",
      "                                                                                                  \n",
      " add_30 (Add)                   (None, 14, 14, 728)  0           ['block8_sepconv3_bn[0][0]',     \n",
      "                                                                  'add_29[0][0]']                 \n",
      "                                                                                                  \n",
      " block9_sepconv1_act (Activatio  (None, 14, 14, 728)  0          ['add_30[0][0]']                 \n",
      " n)                                                                                               \n",
      "                                                                                                  \n",
      " block9_sepconv1 (SeparableConv  (None, 14, 14, 728)  536536     ['block9_sepconv1_act[0][0]']    \n",
      " 2D)                                                                                              \n",
      "                                                                                                  \n",
      " block9_sepconv1_bn (BatchNorma  (None, 14, 14, 728)  2912       ['block9_sepconv1[0][0]']        \n",
      " lization)                                                                                        \n",
      "                                                                                                  \n",
      " block9_sepconv2_act (Activatio  (None, 14, 14, 728)  0          ['block9_sepconv1_bn[0][0]']     \n",
      " n)                                                                                               \n",
      "                                                                                                  \n",
      " block9_sepconv2 (SeparableConv  (None, 14, 14, 728)  536536     ['block9_sepconv2_act[0][0]']    \n",
      " 2D)                                                                                              \n",
      "                                                                                                  \n",
      " block9_sepconv2_bn (BatchNorma  (None, 14, 14, 728)  2912       ['block9_sepconv2[0][0]']        \n",
      " lization)                                                                                        \n",
      "                                                                                                  \n",
      " block9_sepconv3_act (Activatio  (None, 14, 14, 728)  0          ['block9_sepconv2_bn[0][0]']     \n",
      " n)                                                                                               \n",
      "                                                                                                  \n",
      " block9_sepconv3 (SeparableConv  (None, 14, 14, 728)  536536     ['block9_sepconv3_act[0][0]']    \n",
      " 2D)                                                                                              \n",
      "                                                                                                  \n",
      " block9_sepconv3_bn (BatchNorma  (None, 14, 14, 728)  2912       ['block9_sepconv3[0][0]']        \n",
      " lization)                                                                                        \n",
      "                                                                                                  \n",
      " add_31 (Add)                   (None, 14, 14, 728)  0           ['block9_sepconv3_bn[0][0]',     \n",
      "                                                                  'add_30[0][0]']                 \n",
      "                                                                                                  \n",
      " block10_sepconv1_act (Activati  (None, 14, 14, 728)  0          ['add_31[0][0]']                 \n",
      " on)                                                                                              \n",
      "                                                                                                  \n",
      " block10_sepconv1 (SeparableCon  (None, 14, 14, 728)  536536     ['block10_sepconv1_act[0][0]']   \n",
      " v2D)                                                                                             \n",
      "                                                                                                  \n",
      " block10_sepconv1_bn (BatchNorm  (None, 14, 14, 728)  2912       ['block10_sepconv1[0][0]']       \n",
      " alization)                                                                                       \n",
      "                                                                                                  \n",
      " block10_sepconv2_act (Activati  (None, 14, 14, 728)  0          ['block10_sepconv1_bn[0][0]']    \n",
      " on)                                                                                              \n",
      "                                                                                                  \n",
      " block10_sepconv2 (SeparableCon  (None, 14, 14, 728)  536536     ['block10_sepconv2_act[0][0]']   \n",
      " v2D)                                                                                             \n",
      "                                                                                                  \n",
      " block10_sepconv2_bn (BatchNorm  (None, 14, 14, 728)  2912       ['block10_sepconv2[0][0]']       \n",
      " alization)                                                                                       \n",
      "                                                                                                  \n",
      " block10_sepconv3_act (Activati  (None, 14, 14, 728)  0          ['block10_sepconv2_bn[0][0]']    \n",
      " on)                                                                                              \n",
      "                                                                                                  \n",
      " block10_sepconv3 (SeparableCon  (None, 14, 14, 728)  536536     ['block10_sepconv3_act[0][0]']   \n",
      " v2D)                                                                                             \n",
      "                                                                                                  \n",
      " block10_sepconv3_bn (BatchNorm  (None, 14, 14, 728)  2912       ['block10_sepconv3[0][0]']       \n",
      " alization)                                                                                       \n",
      "                                                                                                  \n",
      " add_32 (Add)                   (None, 14, 14, 728)  0           ['block10_sepconv3_bn[0][0]',    \n",
      "                                                                  'add_31[0][0]']                 \n",
      "                                                                                                  \n",
      " block11_sepconv1_act (Activati  (None, 14, 14, 728)  0          ['add_32[0][0]']                 \n",
      " on)                                                                                              \n",
      "                                                                                                  \n",
      " block11_sepconv1 (SeparableCon  (None, 14, 14, 728)  536536     ['block11_sepconv1_act[0][0]']   \n",
      " v2D)                                                                                             \n",
      "                                                                                                  \n",
      " block11_sepconv1_bn (BatchNorm  (None, 14, 14, 728)  2912       ['block11_sepconv1[0][0]']       \n",
      " alization)                                                                                       \n",
      "                                                                                                  \n",
      " block11_sepconv2_act (Activati  (None, 14, 14, 728)  0          ['block11_sepconv1_bn[0][0]']    \n",
      " on)                                                                                              \n",
      "                                                                                                  \n",
      " block11_sepconv2 (SeparableCon  (None, 14, 14, 728)  536536     ['block11_sepconv2_act[0][0]']   \n",
      " v2D)                                                                                             \n",
      "                                                                                                  \n",
      " block11_sepconv2_bn (BatchNorm  (None, 14, 14, 728)  2912       ['block11_sepconv2[0][0]']       \n",
      " alization)                                                                                       \n",
      "                                                                                                  \n",
      " block11_sepconv3_act (Activati  (None, 14, 14, 728)  0          ['block11_sepconv2_bn[0][0]']    \n",
      " on)                                                                                              \n",
      "                                                                                                  \n",
      " block11_sepconv3 (SeparableCon  (None, 14, 14, 728)  536536     ['block11_sepconv3_act[0][0]']   \n",
      " v2D)                                                                                             \n",
      "                                                                                                  \n",
      " block11_sepconv3_bn (BatchNorm  (None, 14, 14, 728)  2912       ['block11_sepconv3[0][0]']       \n",
      " alization)                                                                                       \n",
      "                                                                                                  \n",
      " add_33 (Add)                   (None, 14, 14, 728)  0           ['block11_sepconv3_bn[0][0]',    \n",
      "                                                                  'add_32[0][0]']                 \n",
      "                                                                                                  \n",
      " block12_sepconv1_act (Activati  (None, 14, 14, 728)  0          ['add_33[0][0]']                 \n",
      " on)                                                                                              \n",
      "                                                                                                  \n",
      " block12_sepconv1 (SeparableCon  (None, 14, 14, 728)  536536     ['block12_sepconv1_act[0][0]']   \n",
      " v2D)                                                                                             \n",
      "                                                                                                  \n",
      " block12_sepconv1_bn (BatchNorm  (None, 14, 14, 728)  2912       ['block12_sepconv1[0][0]']       \n",
      " alization)                                                                                       \n",
      "                                                                                                  \n",
      " block12_sepconv2_act (Activati  (None, 14, 14, 728)  0          ['block12_sepconv1_bn[0][0]']    \n",
      " on)                                                                                              \n",
      "                                                                                                  \n",
      " block12_sepconv2 (SeparableCon  (None, 14, 14, 728)  536536     ['block12_sepconv2_act[0][0]']   \n",
      " v2D)                                                                                             \n",
      "                                                                                                  \n",
      " block12_sepconv2_bn (BatchNorm  (None, 14, 14, 728)  2912       ['block12_sepconv2[0][0]']       \n",
      " alization)                                                                                       \n",
      "                                                                                                  \n",
      " block12_sepconv3_act (Activati  (None, 14, 14, 728)  0          ['block12_sepconv2_bn[0][0]']    \n",
      " on)                                                                                              \n",
      "                                                                                                  \n",
      " block12_sepconv3 (SeparableCon  (None, 14, 14, 728)  536536     ['block12_sepconv3_act[0][0]']   \n",
      " v2D)                                                                                             \n",
      "                                                                                                  \n",
      " block12_sepconv3_bn (BatchNorm  (None, 14, 14, 728)  2912       ['block12_sepconv3[0][0]']       \n",
      " alization)                                                                                       \n",
      "                                                                                                  \n",
      " add_34 (Add)                   (None, 14, 14, 728)  0           ['block12_sepconv3_bn[0][0]',    \n",
      "                                                                  'add_33[0][0]']                 \n",
      "                                                                                                  \n",
      " block13_sepconv1_act (Activati  (None, 14, 14, 728)  0          ['add_34[0][0]']                 \n",
      " on)                                                                                              \n",
      "                                                                                                  \n",
      " block13_sepconv1 (SeparableCon  (None, 14, 14, 728)  536536     ['block13_sepconv1_act[0][0]']   \n",
      " v2D)                                                                                             \n",
      "                                                                                                  \n",
      " block13_sepconv1_bn (BatchNorm  (None, 14, 14, 728)  2912       ['block13_sepconv1[0][0]']       \n",
      " alization)                                                                                       \n",
      "                                                                                                  \n",
      " block13_sepconv2_act (Activati  (None, 14, 14, 728)  0          ['block13_sepconv1_bn[0][0]']    \n",
      " on)                                                                                              \n",
      "                                                                                                  \n",
      " block13_sepconv2 (SeparableCon  (None, 14, 14, 1024  752024     ['block13_sepconv2_act[0][0]']   \n",
      " v2D)                           )                                                                 \n",
      "                                                                                                  \n",
      " block13_sepconv2_bn (BatchNorm  (None, 14, 14, 1024  4096       ['block13_sepconv2[0][0]']       \n",
      " alization)                     )                                                                 \n",
      "                                                                                                  \n",
      " conv2d_11 (Conv2D)             (None, 7, 7, 1024)   745472      ['add_34[0][0]']                 \n",
      "                                                                                                  \n",
      " block13_pool (MaxPooling2D)    (None, 7, 7, 1024)   0           ['block13_sepconv2_bn[0][0]']    \n",
      "                                                                                                  \n",
      " batch_normalization_11 (BatchN  (None, 7, 7, 1024)  4096        ['conv2d_11[0][0]']              \n",
      " ormalization)                                                                                    \n",
      "                                                                                                  \n",
      " add_35 (Add)                   (None, 7, 7, 1024)   0           ['block13_pool[0][0]',           \n",
      "                                                                  'batch_normalization_11[0][0]'] \n",
      "                                                                                                  \n",
      " block14_sepconv1 (SeparableCon  (None, 7, 7, 1536)  1582080     ['add_35[0][0]']                 \n",
      " v2D)                                                                                             \n",
      "                                                                                                  \n",
      " block14_sepconv1_bn (BatchNorm  (None, 7, 7, 1536)  6144        ['block14_sepconv1[0][0]']       \n",
      " alization)                                                                                       \n",
      "                                                                                                  \n",
      " block14_sepconv1_act (Activati  (None, 7, 7, 1536)  0           ['block14_sepconv1_bn[0][0]']    \n",
      " on)                                                                                              \n",
      "                                                                                                  \n",
      " block14_sepconv2 (SeparableCon  (None, 7, 7, 2048)  3159552     ['block14_sepconv1_act[0][0]']   \n",
      " v2D)                                                                                             \n",
      "                                                                                                  \n",
      " block14_sepconv2_bn (BatchNorm  (None, 7, 7, 2048)  8192        ['block14_sepconv2[0][0]']       \n",
      " alization)                                                                                       \n",
      "                                                                                                  \n",
      " block14_sepconv2_act (Activati  (None, 7, 7, 2048)  0           ['block14_sepconv2_bn[0][0]']    \n",
      " on)                                                                                              \n",
      "                                                                                                  \n",
      "==================================================================================================\n",
      "Total params: 20,861,480\n",
      "Trainable params: 20,806,952\n",
      "Non-trainable params: 54,528\n",
      "__________________________________________________________________________________________________\n"
     ]
    }
   ],
   "source": [
    "base_model.summary()"
   ]
  },
  {
   "cell_type": "code",
   "execution_count": 58,
   "id": "0eb5be70",
   "metadata": {
    "pycharm": {
     "name": "#%%\n"
    }
   },
   "outputs": [],
   "source": [
    "def extract_features(sample_count, datagen):\n",
    "    start = dt.datetime.now()\n",
    "    features = np.zeros(shape=(sample_count, 7, 7, 2048))\n",
    "    labels = np.zeros(shape=(sample_count,3))\n",
    "    generator = datagen\n",
    "    i = 0\n",
    "    for inputs_batch,labels_batch in generator:\n",
    "        stop = dt.datetime.now()\n",
    "        time = (stop - start).seconds\n",
    "        print('\\r','Extracting features from batch', str(i+1), '/', len(datagen),\n",
    "              '-- run time:', time,'seconds',end='')\n",
    "        features_batch = base_model.predict(inputs_batch)\n",
    "        features[i * BATCH_SIZE : (i + 1) * BATCH_SIZE] = features_batch\n",
    "        labels[i * BATCH_SIZE : (i + 1) * BATCH_SIZE] = labels_batch\n",
    "        i += 1\n",
    "        if i * BATCH_SIZE >= sample_count:\n",
    "            break\n",
    "    print(\"\\n\")\n",
    "    return features,labels"
   ]
  },
  {
   "cell_type": "code",
   "execution_count": 59,
   "id": "b692000b",
   "metadata": {},
   "outputs": [
    {
     "name": "stdout",
     "output_type": "stream",
     "text": [
      "1/1 [==============================] - 2s 2s/stepme: 0 secon\n",
      "1/1 [==============================] - 1s 1s/stepme: 2 secon\n",
      "1/1 [==============================] - 2s 2s/stepme: 4 secon\n",
      "1/1 [==============================] - 2s 2s/stepme: 6 secon\n",
      "1/1 [==============================] - 2s 2s/stepme: 8 secon\n",
      "1/1 [==============================] - 2s 2s/stepme: 10 secon\n",
      "1/1 [==============================] - 1s 1s/stepme: 12 secon\n",
      "1/1 [==============================] - 1s 1s/stepme: 13 secon\n",
      "1/1 [==============================] - 2s 2s/stepme: 15 secon\n",
      "1/1 [==============================] - 2s 2s/stepime: 17 secon\n",
      "1/1 [==============================] - 2s 2s/stepime: 19 secon\n",
      "1/1 [==============================] - 2s 2s/stepime: 21 secon\n",
      "1/1 [==============================] - 2s 2s/stepime: 23 secon\n",
      "1/1 [==============================] - 2s 2s/stepime: 25 secon\n",
      "1/1 [==============================] - 2s 2s/stepime: 27 secon\n",
      "1/1 [==============================] - 2s 2s/stepime: 29 secon\n",
      "1/1 [==============================] - 2s 2s/stepime: 31 secon\n",
      "1/1 [==============================] - 2s 2s/stepime: 33 secon\n",
      "1/1 [==============================] - 2s 2s/stepime: 35 secon\n",
      "1/1 [==============================] - 2s 2s/stepime: 37 secon\n",
      "1/1 [==============================] - 2s 2s/stepime: 39 secon\n",
      "1/1 [==============================] - 2s 2s/stepime: 41 secon\n",
      "1/1 [==============================] - 2s 2s/stepime: 43 secon\n",
      "1/1 [==============================] - 2s 2s/stepime: 45 secon\n",
      "1/1 [==============================] - 2s 2s/stepime: 47 secon\n",
      "1/1 [==============================] - 2s 2s/stepime: 49 secon\n",
      "1/1 [==============================] - 2s 2s/stepime: 51 secon\n",
      "1/1 [==============================] - 2s 2s/stepime: 53 secon\n",
      "1/1 [==============================] - 2s 2s/stepime: 55 secon\n",
      "1/1 [==============================] - 2s 2s/stepime: 57 secon\n",
      "1/1 [==============================] - 2s 2s/stepime: 59 secon\n",
      "1/1 [==============================] - 2s 2s/stepime: 61 secon\n",
      "1/1 [==============================] - 2s 2s/stepime: 63 secon\n",
      "1/1 [==============================] - 2s 2s/stepime: 65 secon\n",
      "1/1 [==============================] - 2s 2s/stepime: 67 secon\n",
      "1/1 [==============================] - 2s 2s/stepime: 69 secon\n",
      "1/1 [==============================] - 2s 2s/stepime: 72 secon\n",
      "1/1 [==============================] - 2s 2s/stepime: 74 secon\n",
      "1/1 [==============================] - 2s 2s/stepime: 76 secon\n",
      "1/1 [==============================] - 2s 2s/stepime: 78 secon\n",
      "1/1 [==============================] - 2s 2s/stepime: 80 secon\n",
      "1/1 [==============================] - 2s 2s/stepime: 82 secon\n",
      "1/1 [==============================] - 2s 2s/stepime: 84 secon\n",
      "1/1 [==============================] - 2s 2s/stepime: 86 secon\n",
      "1/1 [==============================] - 2s 2s/stepime: 88 secon\n",
      "1/1 [==============================] - 2s 2s/stepime: 90 secon\n",
      "1/1 [==============================] - 2s 2s/stepime: 92 secon\n",
      "1/1 [==============================] - 2s 2s/stepime: 94 secon\n",
      "1/1 [==============================] - 2s 2s/stepime: 96 secon\n",
      "1/1 [==============================] - 2s 2s/stepime: 98 secon\n",
      "1/1 [==============================] - 2s 2s/stepime: 100 secon\n",
      "1/1 [==============================] - 2s 2s/stepime: 102 secon\n",
      "1/1 [==============================] - 2s 2s/stepime: 104 secon\n",
      "1/1 [==============================] - 2s 2s/stepime: 107 secon\n",
      "1/1 [==============================] - 2s 2s/stepime: 109 secon\n",
      "1/1 [==============================] - 2s 2s/stepime: 111 secon\n",
      "1/1 [==============================] - 2s 2s/stepime: 113 secon\n",
      "1/1 [==============================] - 2s 2s/stepime: 115 secon\n",
      "1/1 [==============================] - 2s 2s/stepime: 117 secon\n",
      "1/1 [==============================] - 2s 2s/stepime: 119 secon\n",
      "1/1 [==============================] - 2s 2s/stepime: 121 secon\n",
      "1/1 [==============================] - 2s 2s/stepime: 123 secon\n",
      "1/1 [==============================] - 2s 2s/stepime: 125 secon\n",
      "1/1 [==============================] - 2s 2s/stepime: 127 secon\n",
      "1/1 [==============================] - 2s 2s/stepime: 130 secon\n",
      "1/1 [==============================] - 2s 2s/stepime: 132 secon\n",
      "1/1 [==============================] - 2s 2s/stepime: 134 secon\n",
      "1/1 [==============================] - 2s 2s/stepime: 136 secon\n",
      "1/1 [==============================] - 2s 2s/stepime: 138 secon\n",
      "1/1 [==============================] - 2s 2s/stepime: 140 secon\n",
      "1/1 [==============================] - 2s 2s/stepime: 142 secon\n",
      "1/1 [==============================] - 2s 2s/stepime: 144 secon\n",
      "1/1 [==============================] - 2s 2s/stepime: 146 secon\n",
      "1/1 [==============================] - 2s 2s/stepime: 148 secon\n",
      "1/1 [==============================] - 2s 2s/stepime: 150 secon\n",
      "1/1 [==============================] - 2s 2s/stepime: 153 secon\n",
      "1/1 [==============================] - 2s 2s/stepime: 155 secon\n",
      "1/1 [==============================] - 2s 2s/stepime: 157 secon\n",
      "1/1 [==============================] - 2s 2s/stepime: 159 secon\n",
      "1/1 [==============================] - 2s 2s/stepime: 160 secon\n",
      "1/1 [==============================] - 2s 2s/stepime: 163 secon\n",
      "1/1 [==============================] - 2s 2s/stepime: 165 secon\n",
      "1/1 [==============================] - 2s 2s/stepime: 167 secon\n",
      "1/1 [==============================] - 2s 2s/stepime: 169 secon\n",
      "1/1 [==============================] - 2s 2s/stepime: 171 secon\n",
      "1/1 [==============================] - 2s 2s/stepime: 173 secon\n",
      "1/1 [==============================] - 2s 2s/stepime: 176 secon\n",
      "1/1 [==============================] - 2s 2s/stepime: 178 secon\n",
      "1/1 [==============================] - 2s 2s/stepime: 180 secon\n",
      "1/1 [==============================] - 2s 2s/stepime: 183 secon\n",
      "1/1 [==============================] - 2s 2s/stepime: 185 secon\n",
      "1/1 [==============================] - 2s 2s/stepime: 188 secon\n",
      "1/1 [==============================] - 2s 2s/stepime: 190 secon\n",
      "1/1 [==============================] - 2s 2s/stepime: 192 secon\n",
      "1/1 [==============================] - 2s 2s/stepime: 195 secon\n",
      "1/1 [==============================] - 2s 2s/stepime: 197 secon\n",
      "1/1 [==============================] - 2s 2s/stepime: 199 secon\n",
      "1/1 [==============================] - 2s 2s/stepime: 202 secon\n",
      "1/1 [==============================] - 2s 2s/stepime: 204 secon\n",
      "1/1 [==============================] - 2s 2s/steptime: 207 secon\n",
      "1/1 [==============================] - 2s 2s/steptime: 209 secon\n",
      "1/1 [==============================] - 2s 2s/steptime: 212 secon\n",
      "1/1 [==============================] - 2s 2s/steptime: 214 secon\n",
      "1/1 [==============================] - 2s 2s/steptime: 216 secon\n",
      "1/1 [==============================] - 2s 2s/steptime: 218 secon\n",
      "1/1 [==============================] - 2s 2s/steptime: 221 secon\n",
      "1/1 [==============================] - 1s 1s/steptime: 223 secon\n",
      "\n",
      "\n",
      "1/1 [==============================] - 2s 2s/stepe: 0 secon\n",
      "1/1 [==============================] - 2s 2s/stepe: 2 secon\n",
      "1/1 [==============================] - 2s 2s/stepe: 4 secon\n",
      "1/1 [==============================] - 2s 2s/stepe: 6 secon\n",
      "1/1 [==============================] - 2s 2s/stepe: 8 secon\n",
      "1/1 [==============================] - 2s 2s/stepe: 10 secon\n",
      "1/1 [==============================] - 2s 2s/stepe: 11 secon\n",
      "1/1 [==============================] - 2s 2s/stepe: 13 secon\n",
      "1/1 [==============================] - 2s 2s/stepe: 15 secon\n",
      "1/1 [==============================] - 2s 2s/stepme: 17 secon\n",
      "1/1 [==============================] - 2s 2s/stepme: 19 secon\n",
      "1/1 [==============================] - 2s 2s/stepme: 21 secon\n",
      "1/1 [==============================] - 2s 2s/stepme: 23 secon\n",
      "1/1 [==============================] - 2s 2s/stepme: 25 secon\n",
      "1/1 [==============================] - 2s 2s/stepme: 27 secon\n",
      "1/1 [==============================] - 2s 2s/stepme: 29 secon\n",
      "1/1 [==============================] - 2s 2s/stepme: 31 secon\n",
      "1/1 [==============================] - 2s 2s/stepme: 32 secon\n",
      "1/1 [==============================] - 2s 2s/stepme: 34 secon\n",
      "1/1 [==============================] - 2s 2s/stepme: 36 secon\n",
      "1/1 [==============================] - 2s 2s/stepme: 38 secon\n",
      "1/1 [==============================] - 2s 2s/stepme: 41 secon\n",
      "1/1 [==============================] - 2s 2s/stepme: 43 seconds\n",
      "1/1 [==============================] - 2s 2s/stepme: 45 secon\n",
      "1/1 [==============================] - 2s 2s/stepme: 47 secon\n",
      "1/1 [==============================] - 2s 2s/stepme: 49 secon\n",
      "1/1 [==============================] - 2s 2s/stepme: 51 secon\n",
      "1/1 [==============================] - 2s 2s/stepme: 53 secon\n",
      "1/1 [==============================] - 2s 2s/stepme: 56 secon\n",
      "1/1 [==============================] - 2s 2s/stepme: 58 secon\n",
      "1/1 [==============================] - 2s 2s/stepme: 61 secon\n",
      "1/1 [==============================] - 2s 2s/stepme: 63 secon\n",
      "1/1 [==============================] - 2s 2s/stepme: 65 secon\n",
      "1/1 [==============================] - 2s 2s/stepme: 67 secon\n",
      "1/1 [==============================] - 2s 2s/stepme: 69 secon\n",
      "1/1 [==============================] - 2s 2s/stepme: 72 secon\n",
      "\n",
      "\n"
     ]
    }
   ],
   "source": [
    "train_features, train_labels = extract_features(1599, train_generator)\n",
    "test_features, test_labels = extract_features(533, test_generator)"
   ]
  },
  {
   "cell_type": "code",
   "execution_count": 63,
   "id": "5fa8677a",
   "metadata": {},
   "outputs": [],
   "source": [
    "flat_dim = 7 * 7 * 2048\n",
    "train_features = np.reshape(train_features, (1599, flat_dim))\n",
    "test_features = np.reshape(test_features, (533, flat_dim))"
   ]
  },
  {
   "cell_type": "code",
   "execution_count": 74,
   "id": "3e0f6cd7",
   "metadata": {},
   "outputs": [],
   "source": [
    "reduce_learning_rate = ReduceLROnPlateau(monitor='loss',\n",
    "                                         factor=0.1,\n",
    "                                         patience=2,\n",
    "                                         cooldown=2,\n",
    "                                         min_lr=0.00001,\n",
    "                                         verbose=1)\n",
    "\n",
    "callbacks = [reduce_learning_rate]"
   ]
  },
  {
   "cell_type": "code",
   "execution_count": 75,
   "id": "ae11541a",
   "metadata": {},
   "outputs": [
    {
     "name": "stdout",
     "output_type": "stream",
     "text": [
      "Model: \"sequential_12\"\n",
      "_________________________________________________________________\n",
      " Layer (type)                Output Shape              Param #   \n",
      "=================================================================\n",
      " dense_22 (Dense)            (None, 512)               51380736  \n",
      "                                                                 \n",
      " dropout_11 (Dropout)        (None, 512)               0         \n",
      "                                                                 \n",
      " dense_23 (Dense)            (None, 3)                 1539      \n",
      "                                                                 \n",
      "=================================================================\n",
      "Total params: 51,382,275\n",
      "Trainable params: 51,382,275\n",
      "Non-trainable params: 0\n",
      "_________________________________________________________________\n"
     ]
    }
   ],
   "source": [
    "model = models.Sequential()\n",
    "model.add(layers.Dense(512, activation='relu', input_dim=flat_dim))\n",
    "model.add(layers.Dropout(0.8))\n",
    "model.add(layers.Dense(3, activation='softmax'))\n",
    "model.compile(optimizer='adam',\n",
    "              loss='categorical_crossentropy',\n",
    "              metrics=['acc'])\n",
    "model.summary()"
   ]
  },
  {
   "cell_type": "code",
   "execution_count": 76,
   "id": "df648f75",
   "metadata": {},
   "outputs": [
    {
     "name": "stdout",
     "output_type": "stream",
     "text": [
      "Epoch 1/20\n",
      "86/86 [==============================] - 18s 199ms/step - loss: 7.8070 - acc: 0.6419 - val_loss: 1.5886 - val_acc: 0.8000 - lr: 0.0010\n",
      "Epoch 2/20\n",
      "86/86 [==============================] - 17s 198ms/step - loss: 1.0498 - acc: 0.7428 - val_loss: 0.4559 - val_acc: 0.8531 - lr: 0.0010\n",
      "Epoch 3/20\n",
      "86/86 [==============================] - 16s 188ms/step - loss: 0.5834 - acc: 0.7506 - val_loss: 0.5021 - val_acc: 0.8469 - lr: 0.0010\n",
      "Epoch 4/20\n",
      "86/86 [==============================] - 16s 190ms/step - loss: 0.5168 - acc: 0.7819 - val_loss: 0.5277 - val_acc: 0.8344 - lr: 0.0010\n",
      "Epoch 5/20\n",
      "86/86 [==============================] - 17s 194ms/step - loss: 0.5160 - acc: 0.7780 - val_loss: 0.5017 - val_acc: 0.8594 - lr: 0.0010\n",
      "Epoch 6/20\n",
      "86/86 [==============================] - 17s 194ms/step - loss: 0.5526 - acc: 0.7748 - val_loss: 0.5154 - val_acc: 0.8219 - lr: 0.0010\n",
      "Epoch 7/20\n",
      "86/86 [==============================] - ETA: 0s - loss: 0.5622 - acc: 0.7553\n",
      "Epoch 7: ReduceLROnPlateau reducing learning rate to 0.00010000000474974513.\n",
      "86/86 [==============================] - 17s 196ms/step - loss: 0.5622 - acc: 0.7553 - val_loss: 0.5136 - val_acc: 0.8406 - lr: 0.0010\n",
      "Epoch 8/20\n",
      "86/86 [==============================] - 17s 196ms/step - loss: 0.4894 - acc: 0.7803 - val_loss: 0.4803 - val_acc: 0.8438 - lr: 1.0000e-04\n",
      "Epoch 9/20\n",
      "86/86 [==============================] - 17s 197ms/step - loss: 0.4512 - acc: 0.7897 - val_loss: 0.4870 - val_acc: 0.8406 - lr: 1.0000e-04\n",
      "Epoch 10/20\n",
      "86/86 [==============================] - 17s 195ms/step - loss: 0.4401 - acc: 0.8045 - val_loss: 0.4566 - val_acc: 0.8594 - lr: 1.0000e-04\n",
      "Epoch 11/20\n",
      "86/86 [==============================] - 17s 198ms/step - loss: 0.4096 - acc: 0.7983 - val_loss: 0.4617 - val_acc: 0.8594 - lr: 1.0000e-04\n",
      "Epoch 12/20\n",
      "86/86 [==============================] - 17s 195ms/step - loss: 0.4121 - acc: 0.7952 - val_loss: 0.4800 - val_acc: 0.8500 - lr: 1.0000e-04\n",
      "Epoch 13/20\n",
      "86/86 [==============================] - 17s 193ms/step - loss: 0.3909 - acc: 0.8030 - val_loss: 0.4648 - val_acc: 0.8562 - lr: 1.0000e-04\n",
      "Epoch 14/20\n",
      "86/86 [==============================] - 16s 184ms/step - loss: 0.3825 - acc: 0.8100 - val_loss: 0.4794 - val_acc: 0.8594 - lr: 1.0000e-04\n",
      "Epoch 15/20\n",
      "86/86 [==============================] - 16s 183ms/step - loss: 0.3821 - acc: 0.8288 - val_loss: 0.4733 - val_acc: 0.8531 - lr: 1.0000e-04\n",
      "Epoch 16/20\n",
      "86/86 [==============================] - 16s 186ms/step - loss: 0.3528 - acc: 0.8233 - val_loss: 0.4628 - val_acc: 0.8562 - lr: 1.0000e-04\n",
      "Epoch 17/20\n",
      "86/86 [==============================] - 16s 183ms/step - loss: 0.3566 - acc: 0.8210 - val_loss: 0.4726 - val_acc: 0.8594 - lr: 1.0000e-04\n",
      "Epoch 18/20\n",
      "86/86 [==============================] - 16s 187ms/step - loss: 0.3417 - acc: 0.8382 - val_loss: 0.4546 - val_acc: 0.8625 - lr: 1.0000e-04\n",
      "Epoch 19/20\n",
      "86/86 [==============================] - 16s 184ms/step - loss: 0.3405 - acc: 0.8327 - val_loss: 0.4800 - val_acc: 0.8625 - lr: 1.0000e-04\n",
      "Epoch 20/20\n",
      "86/86 [==============================] - 16s 186ms/step - loss: 0.3309 - acc: 0.8413 - val_loss: 0.4794 - val_acc: 0.8531 - lr: 1.0000e-04\n"
     ]
    }
   ],
   "source": [
    "history = model.fit(train_features,\n",
    "                    train_labels,\n",
    "                    epochs=20,\n",
    "                    batch_size=BATCH_SIZE,\n",
    "                    validation_split=0.2,\n",
    "                    callbacks=callbacks)"
   ]
  },
  {
   "cell_type": "code",
   "execution_count": 78,
   "id": "316a953e",
   "metadata": {},
   "outputs": [
    {
     "data": {
      "text/plain": [
       "<matplotlib.legend.Legend at 0x19dda47eb80>"
      ]
     },
     "execution_count": 78,
     "metadata": {},
     "output_type": "execute_result"
    },
    {
     "data": {
      "image/png": "[encoded data removed]",
      "text/plain": [
       "<Figure size 720x360 with 2 Axes>"
      ]
     },
     "metadata": {
      "needs_background": "light"
     },
     "output_type": "display_data"
    }
   ],
   "source": [
    "fig, ax = plt.subplots(1, 2, figsize=(10,5))\n",
    "acc = history.history['acc']\n",
    "val_acc = history.history['val_acc']\n",
    "loss = history.history['loss']\n",
    "val_loss = history.history['val_loss']\n",
    "epochs = range(1, len(acc) + 1)\n",
    "\n",
    "ax[0].set_title('Training and validation accuracy')\n",
    "ax[0].plot(epochs, acc, 'red', label='Training acc')\n",
    "ax[0].plot(epochs, val_acc, 'blue', label='Validation acc')\n",
    "\n",
    "ax[1].set_title('Training and validation loss')\n",
    "ax[1].plot(epochs, loss, 'red', label='Training loss')\n",
    "ax[1].plot(epochs, val_loss, 'blue', label='Validation loss')\n",
    "\n",
    "ax[0].legend()\n",
    "ax[1].legend()"
   ]
  },
  {
   "cell_type": "code",
   "execution_count": 79,
   "id": "739c7668",
   "metadata": {},
   "outputs": [
    {
     "data": {
      "text/plain": [
       "(100352,)"
      ]
     },
     "execution_count": 79,
     "metadata": {},
     "output_type": "execute_result"
    }
   ],
   "source": [
    "train_features[0].shape"
   ]
  },
  {
   "cell_type": "code",
   "execution_count": 80,
   "id": "e60328cc",
   "metadata": {},
   "outputs": [
    {
     "name": "stdout",
     "output_type": "stream",
     "text": [
      "17/17 [==============================] - 1s 51ms/step\n"
     ]
    }
   ],
   "source": [
    "preds = model.predict(test_features)"
   ]
  },
  {
   "cell_type": "code",
   "execution_count": 81,
   "id": "20a62b80",
   "metadata": {},
   "outputs": [
    {
     "data": {
      "text/plain": [
       "1"
      ]
     },
     "execution_count": 81,
     "metadata": {},
     "output_type": "execute_result"
    }
   ],
   "source": [
    "preds[0].argmax()"
   ]
  },
  {
   "cell_type": "code",
   "execution_count": 82,
   "id": "4727f198",
   "metadata": {},
   "outputs": [
    {
     "data": {
      "text/plain": [
       "array([0., 1., 0.])"
      ]
     },
     "execution_count": 82,
     "metadata": {},
     "output_type": "execute_result"
    }
   ],
   "source": [
    "test_labels[0]"
   ]
  },
  {
   "cell_type": "code",
   "execution_count": 86,
   "id": "03d87152",
   "metadata": {},
   "outputs": [
    {
     "name": "stdout",
     "output_type": "stream",
     "text": [
      "[]\n"
     ]
    }
   ],
   "source": [
    "# Change labels from one-hot encoded\n",
    "predictions = [i.argmax() for i in preds]\n",
    "y_true = [i.argmax() for i in test_labels]\n",
    "\n",
    "s = set(y_true)\n",
    "temp3 = [x for x in predictions if x not in s]\n",
    "print(temp3)"
   ]
  },
  {
   "cell_type": "code",
   "execution_count": 87,
   "id": "8313bfe3",
   "metadata": {},
   "outputs": [],
   "source": [
    "def plot_confusion_matrix(cm, target_names,title='Confusion matrix',cmap=None,normalize=False):\n",
    "    accuracy = np.trace(cm) / float(np.sum(cm))\n",
    "    misclass = 1 - accuracy\n",
    "    if cmap is None:\n",
    "        cmap = plt.get_cmap('Blues')\n",
    "    plt.figure(figsize=(10, 8))\n",
    "    plt.imshow(cm, interpolation='nearest', cmap=cmap)\n",
    "    plt.title(title)\n",
    "    plt.colorbar()\n",
    "\n",
    "    if target_names is not None:\n",
    "        tick_marks = np.arange(len(target_names))\n",
    "        plt.xticks(tick_marks, target_names, rotation=45)\n",
    "        plt.yticks(tick_marks, target_names)\n",
    "\n",
    "    if normalize:\n",
    "        cm = cm.astype('float32') / cm.sum(axis=1)\n",
    "        cm = np.round(cm,2)\n",
    "        \n",
    "\n",
    "    thresh = cm.max() / 1.5 if normalize else cm.max() / 2\n",
    "    for i, j in itertools.product(range(cm.shape[0]), range(cm.shape[1])):\n",
    "        if normalize:\n",
    "            plt.text(j, i, \"{:0.2f}\".format(cm[i, j]),\n",
    "                     horizontalalignment=\"center\",\n",
    "                     color=\"white\" if cm[i, j] > thresh else \"black\")\n",
    "        else:\n",
    "            plt.text(j, i, \"{:,}\".format(cm[i, j]),\n",
    "                     horizontalalignment=\"center\",\n",
    "                     color=\"white\" if cm[i, j] > thresh else \"black\")\n",
    "\n",
    "    plt.tight_layout()\n",
    "    plt.ylabel('True label')\n",
    "    plt.xlabel(\"Predicted label\\naccuracy={:0.4f}\\n misclass={:0.4f}\".format(accuracy, misclass))\n",
    "    plt.show()"
   ]
  },
  {
   "cell_type": "code",
   "execution_count": 91,
   "id": "dddfda8f",
   "metadata": {},
   "outputs": [
    {
     "data": {
      "image/png": "[encoded data removed]",
      "text/plain": [
       "<Figure size 720x576 with 2 Axes>"
      ]
     },
     "metadata": {
      "needs_background": "light"
     },
     "output_type": "display_data"
    },
    {
     "name": "stdout",
     "output_type": "stream",
     "text": [
      "Classification Report:\n",
      "----------------------\n",
      "               precision    recall  f1-score   support\n",
      "\n",
      "    NEGATIVE       0.81      0.86      0.84       177\n",
      "     NEUTRAL       0.97      1.00      0.98       179\n",
      "    POSITIVE       0.86      0.77      0.81       177\n",
      "\n",
      "    accuracy                           0.88       533\n",
      "   macro avg       0.88      0.88      0.88       533\n",
      "weighted avg       0.88      0.88      0.88       533\n",
      "\n"
     ]
    }
   ],
   "source": [
    "cm = confusion_matrix(y_pred=predictions, y_true=y_true)\n",
    "clr = classification_report(y_true,predictions, target_names=CLASSES)\n",
    "plot_confusion_matrix(cm, normalize=True, target_names=CLASSES)\n",
    "print(\"Classification Report:\\n----------------------\\n\", clr)"
   ]
  },
  {
   "cell_type": "code",
   "execution_count": null,
   "id": "cd40533f",
   "metadata": {},
   "outputs": [],
   "source": []
  }
 ],
 "metadata": {
  "kernelspec": {
   "display_name": "Python 3 (ipykernel)",
   "language": "python",
   "name": "python3"
  },
  "language_info": {
   "codemirror_mode": {
    "name": "ipython",
    "version": 3
   },
   "file_extension": ".py",
   "mimetype": "text/x-python",
   "name": "python",
   "nbconvert_exporter": "python",
   "pygments_lexer": "ipython3",
   "version": "3.9.7"
  }
 },
 "nbformat": 4,
 "nbformat_minor": 5
}
