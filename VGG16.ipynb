{
  "cells": [
    {
      "cell_type": "markdown",
      "metadata": {
        "id": "view-in-github",
        "colab_type": "text"
      },
      "source": [
        "<a href=\"https://colab.research.google.com/github/muhammadali122/Human-Emotion-Detection/blob/main/VGG16.ipynb\" target=\"_parent\"><img src=\"https://colab.research.google.com/assets/colab-badge.svg\" alt=\"Open In Colab\"/></a>"
      ]
    },
    {
      "cell_type": "code",
      "execution_count": null,
      "metadata": {
        "id": "nVMYhOLV2Wdx"
      },
      "outputs": [],
      "source": [
        "from keras.layers import Input, Lambda, Dense, Flatten\n",
        "from keras.models import Model\n",
        "from keras.applications.vgg16 import VGG16\n",
        "from keras.applications.vgg16 import preprocess_input\n",
        "from keras.applications.vgg16 import decode_predictions\n",
        "from keras.preprocessing import image\n",
        "from keras.preprocessing.image import ImageDataGenerator\n",
        "from keras.models import Sequential\n",
        "import numpy as np\n",
        "from glob import glob\n",
        "import matplotlib.pyplot as plt"
      ]
    },
    {
      "cell_type": "code",
      "execution_count": null,
      "metadata": {
        "id": "MeXjS_ks2aMO"
      },
      "outputs": [],
      "source": [
        "train_path = '/content/drive/MyDrive/FYP Project/dataset/train'\n",
        "val_path = '/content/drive/MyDrive/FYP Project/dataset/test'\n",
        "test_path = '/content/drive/MyDrive/FYP Project/dataset/test'"
      ]
    },
    {
      "cell_type": "code",
      "execution_count": null,
      "metadata": {
        "id": "ondJkYvPeXt5"
      },
      "outputs": [],
      "source": [
        "# re-size all the images to a size VGG-16 expects.\n",
        "IMAGE_SIZE = [224, 224]\n",
        "\n",
        "# Set the batch size\n",
        "BATCH_SIZE = 20 \n",
        "NUM_EPOCHS = 5\n",
        "LEARNING_RATE = 0.0001\n",
        "NUM_CLASSES = 3 "
      ]
    },
    {
      "cell_type": "code",
      "execution_count": null,
      "metadata": {
        "id": "a4fZ4_QIednp"
      },
      "outputs": [],
      "source": [
        "import os\n",
        "CLASSES = os.listdir(train_path)\n",
        "NUM_CLASSES = len(CLASSES)"
      ]
    },
    {
      "cell_type": "code",
      "execution_count": null,
      "metadata": {
        "colab": {
          "base_uri": "https://localhost:8080/"
        },
        "id": "SvykD3CQfmsl",
        "outputId": "7324dcb5-7751-4001-921e-d2aeb943cedf"
      },
      "outputs": [
        {
          "output_type": "stream",
          "name": "stdout",
          "text": [
            "Class --> ['NEGATIVE', 'NEUTRAL', 'POSITIVE'] \n",
            " and the length is : 3\n"
          ]
        }
      ],
      "source": [
        "print(\"Class --> {} \\n and the length is : {}\".format(CLASSES, NUM_CLASSES))"
      ]
    },
    {
      "cell_type": "code",
      "execution_count": null,
      "metadata": {
        "id": "07L4nvw32DwM"
      },
      "outputs": [],
      "source": [
        "train_datagen = ImageDataGenerator(\n",
        "    rescale = 1./255,\n",
        "    shear_range = 0.2,\n",
        "    zoom_range = 0.2,\n",
        "    horizontal_flip = True\n",
        ")"
      ]
    },
    {
      "cell_type": "code",
      "execution_count": null,
      "metadata": {
        "colab": {
          "base_uri": "https://localhost:8080/"
        },
        "id": "c3qNu-Go2Npg",
        "outputId": "995b3b17-2e6e-4c94-aaba-0d3b9f4870a8"
      },
      "outputs": [
        {
          "output_type": "stream",
          "name": "stdout",
          "text": [
            "Found 1599 images belonging to 3 classes.\n"
          ]
        }
      ],
      "source": [
        "# Import the images from the train dataset.\n",
        "# Make sure to provide the same target size as initialied for the image size\n",
        "training_set = train_datagen.flow_from_directory(\n",
        "    directory = train_path,\n",
        "    target_size = (224, 224),\n",
        "    batch_size = BATCH_SIZE,\n",
        "    class_mode = 'categorical'\n",
        ")"
      ]
    },
    {
      "cell_type": "code",
      "execution_count": null,
      "metadata": {
        "id": "oG0uUARk2TaM"
      },
      "outputs": [],
      "source": [
        "test_datagen = ImageDataGenerator(rescale = 1./255)"
      ]
    },
    {
      "cell_type": "code",
      "execution_count": null,
      "metadata": {
        "colab": {
          "base_uri": "https://localhost:8080/"
        },
        "id": "vQsiogsW2hES",
        "outputId": "b5c9e848-ef8b-4ad9-f796-4c2f75f61127"
      },
      "outputs": [
        {
          "output_type": "stream",
          "name": "stdout",
          "text": [
            "Found 533 images belonging to 3 classes.\n"
          ]
        }
      ],
      "source": [
        "# Import the images from the test dataset.\n",
        "\n",
        "test_set = train_datagen.flow_from_directory(\n",
        "    directory = test_path,\n",
        "    target_size = (224, 224),\n",
        "    batch_size = BATCH_SIZE,\n",
        "    class_mode = 'categorical'\n",
        ")\n"
      ]
    },
    {
      "cell_type": "code",
      "execution_count": null,
      "metadata": {
        "id": "ze9am1gD2ogS"
      },
      "outputs": [],
      "source": [
        "vgg = VGG16(input_shape = IMAGE_SIZE + [3], weights='imagenet', include_top=False)"
      ]
    },
    {
      "cell_type": "code",
      "execution_count": null,
      "metadata": {
        "id": "Vs-oJ4fC2uXe"
      },
      "outputs": [],
      "source": [
        "# don't train existing weights\n",
        "for layer in vgg.layers:\n",
        "    layer.trainable = False"
      ]
    },
    {
      "cell_type": "code",
      "execution_count": null,
      "metadata": {
        "id": "1qiXDqy22x8n"
      },
      "outputs": [],
      "source": [
        "# our layers - you can add more if you want\n",
        "x = Flatten()(vgg.output)\n",
        "\n",
        "prediction = Dense(NUM_CLASSES, activation='softmax')(x)"
      ]
    },
    {
      "cell_type": "code",
      "execution_count": null,
      "metadata": {
        "id": "OPX5Rn6N21ms"
      },
      "outputs": [],
      "source": [
        "# create a model object\n",
        "model = Model(inputs=vgg.input, outputs=prediction)"
      ]
    },
    {
      "cell_type": "code",
      "execution_count": null,
      "metadata": {
        "colab": {
          "base_uri": "https://localhost:8080/"
        },
        "id": "dPBXQk5H24GT",
        "outputId": "008ae42c-2be8-41e1-ed30-4e3078b1dc66"
      },
      "outputs": [
        {
          "output_type": "stream",
          "name": "stdout",
          "text": [
            "Model: \"model_1\"\n",
            "_________________________________________________________________\n",
            " Layer (type)                Output Shape              Param #   \n",
            "=================================================================\n",
            " input_2 (InputLayer)        [(None, 224, 224, 3)]     0         \n",
            "                                                                 \n",
            " block1_conv1 (Conv2D)       (None, 224, 224, 64)      1792      \n",
            "                                                                 \n",
            " block1_conv2 (Conv2D)       (None, 224, 224, 64)      36928     \n",
            "                                                                 \n",
            " block1_pool (MaxPooling2D)  (None, 112, 112, 64)      0         \n",
            "                                                                 \n",
            " block2_conv1 (Conv2D)       (None, 112, 112, 128)     73856     \n",
            "                                                                 \n",
            " block2_conv2 (Conv2D)       (None, 112, 112, 128)     147584    \n",
            "                                                                 \n",
            " block2_pool (MaxPooling2D)  (None, 56, 56, 128)       0         \n",
            "                                                                 \n",
            " block3_conv1 (Conv2D)       (None, 56, 56, 256)       295168    \n",
            "                                                                 \n",
            " block3_conv2 (Conv2D)       (None, 56, 56, 256)       590080    \n",
            "                                                                 \n",
            " block3_conv3 (Conv2D)       (None, 56, 56, 256)       590080    \n",
            "                                                                 \n",
            " block3_pool (MaxPooling2D)  (None, 28, 28, 256)       0         \n",
            "                                                                 \n",
            " block4_conv1 (Conv2D)       (None, 28, 28, 512)       1180160   \n",
            "                                                                 \n",
            " block4_conv2 (Conv2D)       (None, 28, 28, 512)       2359808   \n",
            "                                                                 \n",
            " block4_conv3 (Conv2D)       (None, 28, 28, 512)       2359808   \n",
            "                                                                 \n",
            " block4_pool (MaxPooling2D)  (None, 14, 14, 512)       0         \n",
            "                                                                 \n",
            " block5_conv1 (Conv2D)       (None, 14, 14, 512)       2359808   \n",
            "                                                                 \n",
            " block5_conv2 (Conv2D)       (None, 14, 14, 512)       2359808   \n",
            "                                                                 \n",
            " block5_conv3 (Conv2D)       (None, 14, 14, 512)       2359808   \n",
            "                                                                 \n",
            " block5_pool (MaxPooling2D)  (None, 7, 7, 512)         0         \n",
            "                                                                 \n",
            " flatten_2 (Flatten)         (None, 25088)             0         \n",
            "                                                                 \n",
            " dense_2 (Dense)             (None, 3)                 75267     \n",
            "                                                                 \n",
            "=================================================================\n",
            "Total params: 14,789,955\n",
            "Trainable params: 75,267\n",
            "Non-trainable params: 14,714,688\n",
            "_________________________________________________________________\n"
          ]
        }
      ],
      "source": [
        "model.summary()"
      ]
    },
    {
      "cell_type": "code",
      "execution_count": null,
      "metadata": {
        "id": "-mqyrp5Z26jA"
      },
      "outputs": [],
      "source": [
        "# tell the model what cost and optimization method to use\n",
        "model.compile(\n",
        "  loss='categorical_crossentropy',\n",
        "  optimizer='adam',\n",
        "  metrics=['accuracy']\n",
        ")"
      ]
    },
    {
      "cell_type": "code",
      "execution_count": null,
      "metadata": {
        "colab": {
          "base_uri": "https://localhost:8080/"
        },
        "id": "h6JsyxSJ3DA7",
        "outputId": "45c8d0cb-5f37-4e67-84fb-7216552f13ff"
      },
      "outputs": [
        {
          "output_type": "stream",
          "name": "stdout",
          "text": [
            "Epoch 1/5\n",
            "50/50 [==============================] - 40s 788ms/step - loss: 0.7501 - accuracy: 0.6754 - val_loss: 0.5454 - val_accuracy: 0.7955\n",
            "Epoch 2/5\n",
            "50/50 [==============================] - 35s 703ms/step - loss: 0.3841 - accuracy: 0.8468 - val_loss: 0.4110 - val_accuracy: 0.8368\n",
            "Epoch 3/5\n",
            "50/50 [==============================] - 34s 683ms/step - loss: 0.3380 - accuracy: 0.8674 - val_loss: 0.3260 - val_accuracy: 0.8668\n",
            "Epoch 4/5\n",
            "50/50 [==============================] - 34s 684ms/step - loss: 0.3521 - accuracy: 0.8549 - val_loss: 0.5194 - val_accuracy: 0.7955\n",
            "Epoch 5/5\n",
            "50/50 [==============================] - 34s 684ms/step - loss: 0.3221 - accuracy: 0.8680 - val_loss: 0.3090 - val_accuracy: 0.8649\n"
          ]
        }
      ],
      "source": [
        "# fit the model\n",
        "\n",
        "# history = model.fit_generator(\n",
        "#   training_set,\n",
        "#   validation_data=test_set,\n",
        "#   epochs=5,\n",
        "#   steps_per_epoch=len(training_set),\n",
        "#   validation_steps=len(test_set)\n",
        "# )\n",
        "\n",
        "history = model.fit(\n",
        "  training_set,\n",
        "  validation_data=test_set,\n",
        "  epochs=5,\n",
        "  steps_per_epoch=len(training_set),\n",
        "  validation_steps=len(test_set)\n",
        ")"
      ]
    },
    {
      "cell_type": "code",
      "execution_count": null,
      "metadata": {
        "colab": {
          "base_uri": "https://localhost:8080/"
        },
        "id": "QETlpbP63GWN",
        "outputId": "e19807f9-e54c-4890-b108-82cf6cdaba7c"
      },
      "outputs": [
        {
          "output_type": "stream",
          "name": "stdout",
          "text": [
            "Found 533 images belonging to 3 classes.\n"
          ]
        }
      ],
      "source": [
        "# Generate Validation set.\n",
        "validation_datagen = ImageDataGenerator(rescale = 1./255)\n",
        "\n",
        "validation_set = test_datagen.flow_from_directory(\n",
        "    directory = test_path,\n",
        "    target_size = (224, 224),\n",
        "    batch_size = BATCH_SIZE,\n",
        "    class_mode = 'categorical'\n",
        ")"
      ]
    },
    {
      "cell_type": "code",
      "execution_count": null,
      "metadata": {
        "colab": {
          "base_uri": "https://localhost:8080/"
        },
        "id": "XQXLJIZBB2Ox",
        "outputId": "41748abb-99be-4983-fcd7-8a9603a847b9"
      },
      "outputs": [
        {
          "output_type": "stream",
          "name": "stdout",
          "text": [
            "17/20 [========================>.....] - ETA: 0s - loss: 0.2956 - accuracy: 0.8762WARNING:tensorflow:Your input ran out of data; interrupting training. Make sure that your dataset or generator can generate at least `steps_per_epoch * epochs` batches (in this case, 20 batches). You may need to use the repeat() function when building your dataset.\n",
            "20/20 [==============================] - 4s 178ms/step - loss: 0.2956 - accuracy: 0.8762\n",
            "loss: 0.30\n",
            "accuracy: 0.88\n"
          ]
        }
      ],
      "source": [
        "validation_steps = 20\n",
        "\n",
        "loss0,accuracy0 = model.evaluate(validation_set, steps = validation_steps)\n",
        "\n",
        "print(\"loss: {:.2f}\".format(loss0))\n",
        "print(\"accuracy: {:.2f}\".format(accuracy0))"
      ]
    },
    {
      "cell_type": "code",
      "execution_count": null,
      "metadata": {
        "colab": {
          "base_uri": "https://localhost:8080/"
        },
        "id": "27qQLlwXCT7K",
        "outputId": "f5fdac44-4ae1-4898-cd33-d7d0975c14f9"
      },
      "outputs": [
        {
          "output_type": "stream",
          "name": "stdout",
          "text": [
            "Found 1599 images belonging to 3 classes.\n"
          ]
        }
      ],
      "source": [
        "# Generate Validation set.\n",
        "validation_set2 = train_datagen.flow_from_directory(\n",
        "    directory = train_path,\n",
        "    target_size = (224, 224),\n",
        "    batch_size = 1,\n",
        "    shuffle=False, \n",
        "    seed=42, \n",
        "    class_mode=\"binary\"\n",
        ")\n",
        "\n",
        "# validation_set2.reset()"
      ]
    },
    {
      "cell_type": "code",
      "execution_count": null,
      "metadata": {
        "colab": {
          "base_uri": "https://localhost:8080/"
        },
        "id": "xPni5vmMCgV8",
        "outputId": "99eaf1e7-1cb6-4c55-9f5f-89cf35edf2c9"
      },
      "outputs": [
        {
          "output_type": "stream",
          "name": "stdout",
          "text": [
            "17/20 [========================>.....] - ETA: 0s - loss: 0.2956 - accuracy: 0.8762WARNING:tensorflow:Your input ran out of data; interrupting training. Make sure that your dataset or generator can generate at least `steps_per_epoch * epochs` batches (in this case, 20 batches). You may need to use the repeat() function when building your dataset.\n",
            "20/20 [==============================] - 4s 180ms/step - loss: 0.2956 - accuracy: 0.8762\n",
            "loss: 0.30\n",
            "accuracy: 0.88\n"
          ]
        }
      ],
      "source": [
        "# just capture the loss and accuray into val variable... unlike in pervious code to capture into loss0 and accuracy0. Just to showcase alternate way.\n",
        "\n",
        "val = model.evaluate(validation_set, steps = validation_steps)\n",
        "\n",
        "print(\"loss: {:.2f}\".format(val[0]))\n",
        "print(\"accuracy: {:.2f}\".format(val[1]))"
      ]
    },
    {
      "cell_type": "code",
      "execution_count": null,
      "metadata": {
        "colab": {
          "base_uri": "https://localhost:8080/",
          "height": 295
        },
        "id": "bjq33MQ4Fq4l",
        "outputId": "f3ad6045-eaf8-41c7-cf91-d69e82df0733"
      },
      "outputs": [
        {
          "output_type": "display_data",
          "data": {
            "text/plain": [
              "<Figure size 432x288 with 1 Axes>"
            ],
            "image/png": "[encoded data removed]"
          },
          "metadata": {
            "needs_background": "light"
          }
        }
      ],
      "source": [
        "# summarize history for loss\n",
        "\n",
        "plt.plot(history.history['loss'], label='Train loss')\n",
        "plt.plot(history.history['val_loss'], label='Validation (Test) loss')\n",
        "plt.title('summarize history for loss')\n",
        "plt.ylabel('loss')\n",
        "plt.xlabel('epoch')\n",
        "plt.legend(['train', 'test'], loc='upper left')\n",
        "plt.show()"
      ]
    },
    {
      "cell_type": "code",
      "execution_count": null,
      "metadata": {
        "colab": {
          "base_uri": "https://localhost:8080/",
          "height": 295
        },
        "id": "_5nzRfG-FriM",
        "outputId": "635a8bd9-85ec-4db8-dda8-b7a1c3417c18"
      },
      "outputs": [
        {
          "output_type": "display_data",
          "data": {
            "text/plain": [
              "<Figure size 432x288 with 1 Axes>"
            ],
            "image/png": "[encoded data removed]"
          },
          "metadata": {
            "needs_background": "light"
          }
        }
      ],
      "source": [
        "# summarize history for accuracy\n",
        "\n",
        "plt.plot(history.history['accuracy'])\n",
        "plt.plot(history.history['val_accuracy'])\n",
        "plt.title('summarize history for accuracy')\n",
        "plt.ylabel('accuracy')\n",
        "plt.xlabel('epoch')\n",
        "plt.legend(['train', 'test'], loc='upper left')\n",
        "plt.show()"
      ]
    },
    {
      "cell_type": "code",
      "execution_count": null,
      "metadata": {
        "colab": {
          "base_uri": "https://localhost:8080/",
          "height": 306
        },
        "id": "haDv9mUOKRrH",
        "outputId": "d787426f-cf51-49c2-f0c8-e6c1c7ae6e77"
      },
      "outputs": [
        {
          "output_type": "stream",
          "name": "stdout",
          "text": [
            "150528\n",
            "[[0.0000000e+00 1.1399448e-18 1.0000000e+00]]\n"
          ]
        },
        {
          "output_type": "display_data",
          "data": {
            "text/plain": [
              "<Figure size 432x288 with 1 Axes>"
            ],
            "image/png": "[encoded data removed]"
          },
          "metadata": {
            "needs_background": "light"
          }
        }
      ],
      "source": [
        "from keras.preprocessing import image\n",
        "dir = '/content/drive/MyDrive/FYP Project/dataset/train/POSITIVE/image_1427.png'\n",
        "img = image.load_img(dir,target_size=(224,224))\n",
        "img = np.asarray(img)\n",
        "plt.imshow(img)\n",
        "img = np.expand_dims(img, axis=0)\n",
        "print(img.size)\n",
        "output = model.predict(img)\n",
        "output = np.argmax(output,axis=1)\n",
        "print (output)"
      ]
    },
    {
      "cell_type": "code",
      "execution_count": null,
      "metadata": {
        "id": "sCPPsIoZiAiv"
      },
      "outputs": [],
      "source": [
        ""
      ]
    }
  ],
  "metadata": {
    "accelerator": "GPU",
    "colab": {
      "collapsed_sections": [],
      "name": "VGG16.ipynb",
      "provenance": [],
      "mount_file_id": "16WnmE_d_hMKh0pvqOeOUYprkLQi88AHd",
      "authorship_tag": "ABX9TyMJhcbPAo2d6hrEGe0jluz3",
      "include_colab_link": true
    },
    "gpuClass": "standard",
    "kernelspec": {
      "display_name": "Python 3",
      "name": "python3"
    },
    "language_info": {
      "name": "python"
    }
  },
  "nbformat": 4,
  "nbformat_minor": 0
}