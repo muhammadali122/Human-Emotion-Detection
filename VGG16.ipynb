{
  "cells": [
    {
      "cell_type": "markdown",
      "metadata": {
        "id": "view-in-github",
        "colab_type": "text"
      },
      "source": [
        "<a href=\"https://colab.research.google.com/github/muhammadali122/Human-Emotion-Detection/blob/main/VGG16.ipynb\" target=\"_parent\"><img src=\"https://colab.research.google.com/assets/colab-badge.svg\" alt=\"Open In Colab\"/></a>"
      ]
    },
    {
      "cell_type": "code",
      "execution_count": 1,
      "metadata": {
        "id": "nVMYhOLV2Wdx"
      },
      "outputs": [],
      "source": [
        "from keras.layers import Input, Lambda, Dense, Flatten\n",
        "from keras.models import Model\n",
        "from keras.applications.vgg16 import VGG16\n",
        "from keras.applications.vgg16 import preprocess_input\n",
        "from keras.applications.vgg16 import decode_predictions\n",
        "from keras.preprocessing import image\n",
        "from keras.preprocessing.image import ImageDataGenerator\n",
        "from keras.models import Sequential\n",
        "import numpy as np\n",
        "from glob import glob\n",
        "import matplotlib.pyplot as plt"
      ]
    },
    {
      "cell_type": "code",
      "execution_count": 2,
      "metadata": {
        "id": "MeXjS_ks2aMO"
      },
      "outputs": [],
      "source": [
        "train_path = '/content/drive/MyDrive/FYP Project/dataset/train'\n",
        "val_path = '/content/drive/MyDrive/FYP Project/dataset/test'\n",
        "test_path = '/content/drive/MyDrive/FYP Project/dataset/test'"
      ]
    },
    {
      "cell_type": "code",
      "execution_count": 3,
      "metadata": {
        "id": "ondJkYvPeXt5"
      },
      "outputs": [],
      "source": [
        "# re-size all the images to a size VGG-16 expects.\n",
        "IMAGE_SIZE = [224, 224]\n",
        "\n",
        "# Set the batch size\n",
        "BATCH_SIZE = 16 \n",
        "NUM_EPOCHS = 5\n",
        "LEARNING_RATE = 0.0001\n",
        "NUM_CLASSES = 3 "
      ]
    },
    {
      "cell_type": "code",
      "execution_count": 4,
      "metadata": {
        "id": "a4fZ4_QIednp"
      },
      "outputs": [],
      "source": [
        "import os\n",
        "CLASSES = os.listdir(train_path)\n",
        "NUM_CLASSES = len(CLASSES)"
      ]
    },
    {
      "cell_type": "code",
      "execution_count": 5,
      "metadata": {
        "colab": {
          "base_uri": "https://localhost:8080/"
        },
        "id": "SvykD3CQfmsl",
        "outputId": "e395c136-cc51-45a5-d044-a084cdb35c31"
      },
      "outputs": [
        {
          "output_type": "stream",
          "name": "stdout",
          "text": [
            "Class --> ['NEGATIVE', 'NEUTRAL', 'POSITIVE'] \n",
            " and the length is : 3\n"
          ]
        }
      ],
      "source": [
        "print(\"Class --> {} \\n and the length is : {}\".format(CLASSES, NUM_CLASSES))"
      ]
    },
    {
      "cell_type": "code",
      "execution_count": 6,
      "metadata": {
        "id": "07L4nvw32DwM"
      },
      "outputs": [],
      "source": [
        "train_datagen = ImageDataGenerator(\n",
        "    rescale = 1./255,\n",
        "    shear_range = 0.2,\n",
        "    zoom_range = 0.2,\n",
        "    horizontal_flip = True\n",
        ")"
      ]
    },
    {
      "cell_type": "code",
      "execution_count": 7,
      "metadata": {
        "colab": {
          "base_uri": "https://localhost:8080/"
        },
        "id": "c3qNu-Go2Npg",
        "outputId": "d0bff691-8882-4edf-d4ee-31aa58fdb196"
      },
      "outputs": [
        {
          "output_type": "stream",
          "name": "stdout",
          "text": [
            "Found 1599 images belonging to 3 classes.\n"
          ]
        }
      ],
      "source": [
        "# Import the images from the train dataset.\n",
        "# Make sure to provide the same target size as initialied for the image size\n",
        "training_set = train_datagen.flow_from_directory(\n",
        "    directory = train_path,\n",
        "    target_size = (224, 224),\n",
        "    batch_size = BATCH_SIZE,\n",
        "    class_mode = 'categorical'\n",
        ")"
      ]
    },
    {
      "cell_type": "code",
      "execution_count": 8,
      "metadata": {
        "id": "oG0uUARk2TaM"
      },
      "outputs": [],
      "source": [
        "test_datagen = ImageDataGenerator(rescale = 1./255)"
      ]
    },
    {
      "cell_type": "code",
      "execution_count": 9,
      "metadata": {
        "colab": {
          "base_uri": "https://localhost:8080/"
        },
        "id": "vQsiogsW2hES",
        "outputId": "f6bd3b54-3e08-4d4b-f950-956a158d1306"
      },
      "outputs": [
        {
          "output_type": "stream",
          "name": "stdout",
          "text": [
            "Found 533 images belonging to 3 classes.\n"
          ]
        }
      ],
      "source": [
        "# Import the images from the test dataset.\n",
        "\n",
        "test_set = train_datagen.flow_from_directory(\n",
        "    directory = test_path,\n",
        "    target_size = (224, 224),\n",
        "    batch_size = BATCH_SIZE,\n",
        "    class_mode = 'categorical'\n",
        ")\n"
      ]
    },
    {
      "cell_type": "code",
      "execution_count": 10,
      "metadata": {
        "id": "ze9am1gD2ogS",
        "colab": {
          "base_uri": "https://localhost:8080/"
        },
        "outputId": "7c071743-66d2-4892-9b21-07e62ea70f1c"
      },
      "outputs": [
        {
          "output_type": "stream",
          "name": "stdout",
          "text": [
            "Downloading data from https://storage.googleapis.com/tensorflow/keras-applications/vgg16/vgg16_weights_tf_dim_ordering_tf_kernels_notop.h5\n",
            "58892288/58889256 [==============================] - 2s 0us/step\n",
            "58900480/58889256 [==============================] - 2s 0us/step\n"
          ]
        }
      ],
      "source": [
        "vgg = VGG16(input_shape = IMAGE_SIZE + [3], weights='imagenet', include_top=False)"
      ]
    },
    {
      "cell_type": "code",
      "execution_count": 11,
      "metadata": {
        "id": "Vs-oJ4fC2uXe"
      },
      "outputs": [],
      "source": [
        "# don't train existing weights\n",
        "for layer in vgg.layers:\n",
        "    layer.trainable = False"
      ]
    },
    {
      "cell_type": "code",
      "execution_count": 12,
      "metadata": {
        "id": "1qiXDqy22x8n"
      },
      "outputs": [],
      "source": [
        "# our layers - you can add more if you want\n",
        "x = Flatten()(vgg.output)\n",
        "\n",
        "prediction = Dense(NUM_CLASSES, activation='softmax')(x)"
      ]
    },
    {
      "cell_type": "code",
      "execution_count": 13,
      "metadata": {
        "id": "OPX5Rn6N21ms"
      },
      "outputs": [],
      "source": [
        "# create a model object\n",
        "model = Model(inputs=vgg.input, outputs=prediction)"
      ]
    },
    {
      "cell_type": "code",
      "execution_count": 14,
      "metadata": {
        "colab": {
          "base_uri": "https://localhost:8080/"
        },
        "id": "dPBXQk5H24GT",
        "outputId": "ec56ce13-9627-45cb-bd71-e80aff649c5d"
      },
      "outputs": [
        {
          "output_type": "stream",
          "name": "stdout",
          "text": [
            "Model: \"model\"\n",
            "_________________________________________________________________\n",
            " Layer (type)                Output Shape              Param #   \n",
            "=================================================================\n",
            " input_1 (InputLayer)        [(None, 224, 224, 3)]     0         \n",
            "                                                                 \n",
            " block1_conv1 (Conv2D)       (None, 224, 224, 64)      1792      \n",
            "                                                                 \n",
            " block1_conv2 (Conv2D)       (None, 224, 224, 64)      36928     \n",
            "                                                                 \n",
            " block1_pool (MaxPooling2D)  (None, 112, 112, 64)      0         \n",
            "                                                                 \n",
            " block2_conv1 (Conv2D)       (None, 112, 112, 128)     73856     \n",
            "                                                                 \n",
            " block2_conv2 (Conv2D)       (None, 112, 112, 128)     147584    \n",
            "                                                                 \n",
            " block2_pool (MaxPooling2D)  (None, 56, 56, 128)       0         \n",
            "                                                                 \n",
            " block3_conv1 (Conv2D)       (None, 56, 56, 256)       295168    \n",
            "                                                                 \n",
            " block3_conv2 (Conv2D)       (None, 56, 56, 256)       590080    \n",
            "                                                                 \n",
            " block3_conv3 (Conv2D)       (None, 56, 56, 256)       590080    \n",
            "                                                                 \n",
            " block3_pool (MaxPooling2D)  (None, 28, 28, 256)       0         \n",
            "                                                                 \n",
            " block4_conv1 (Conv2D)       (None, 28, 28, 512)       1180160   \n",
            "                                                                 \n",
            " block4_conv2 (Conv2D)       (None, 28, 28, 512)       2359808   \n",
            "                                                                 \n",
            " block4_conv3 (Conv2D)       (None, 28, 28, 512)       2359808   \n",
            "                                                                 \n",
            " block4_pool (MaxPooling2D)  (None, 14, 14, 512)       0         \n",
            "                                                                 \n",
            " block5_conv1 (Conv2D)       (None, 14, 14, 512)       2359808   \n",
            "                                                                 \n",
            " block5_conv2 (Conv2D)       (None, 14, 14, 512)       2359808   \n",
            "                                                                 \n",
            " block5_conv3 (Conv2D)       (None, 14, 14, 512)       2359808   \n",
            "                                                                 \n",
            " block5_pool (MaxPooling2D)  (None, 7, 7, 512)         0         \n",
            "                                                                 \n",
            " flatten (Flatten)           (None, 25088)             0         \n",
            "                                                                 \n",
            " dense (Dense)               (None, 3)                 75267     \n",
            "                                                                 \n",
            "=================================================================\n",
            "Total params: 14,789,955\n",
            "Trainable params: 75,267\n",
            "Non-trainable params: 14,714,688\n",
            "_________________________________________________________________\n"
          ]
        }
      ],
      "source": [
        "model.summary()"
      ]
    },
    {
      "cell_type": "code",
      "execution_count": 15,
      "metadata": {
        "id": "-mqyrp5Z26jA"
      },
      "outputs": [],
      "source": [
        "# tell the model what cost and optimization method to use\n",
        "model.compile(\n",
        "  loss='categorical_crossentropy',\n",
        "  optimizer='adam',\n",
        "  metrics=['accuracy']\n",
        ")"
      ]
    },
    {
      "cell_type": "code",
      "execution_count": 16,
      "metadata": {
        "colab": {
          "base_uri": "https://localhost:8080/"
        },
        "id": "h6JsyxSJ3DA7",
        "outputId": "1185ee79-c0b8-47f2-8842-52092f8a6a7a"
      },
      "outputs": [
        {
          "output_type": "stream",
          "name": "stdout",
          "text": [
            "Epoch 1/20\n",
            "100/100 [==============================] - 1434s 14s/step - loss: 0.5605 - accuracy: 0.7642 - val_loss: 0.4554 - val_accuracy: 0.8049\n",
            "Epoch 2/20\n",
            "100/100 [==============================] - 35s 349ms/step - loss: 0.3720 - accuracy: 0.8499 - val_loss: 0.4811 - val_accuracy: 0.8236\n",
            "Epoch 3/20\n",
            "100/100 [==============================] - 35s 349ms/step - loss: 0.3768 - accuracy: 0.8493 - val_loss: 0.3314 - val_accuracy: 0.8593\n",
            "Epoch 4/20\n",
            "100/100 [==============================] - 36s 356ms/step - loss: 0.3155 - accuracy: 0.8718 - val_loss: 0.3246 - val_accuracy: 0.8537\n",
            "Epoch 5/20\n",
            "100/100 [==============================] - 35s 355ms/step - loss: 0.2962 - accuracy: 0.8724 - val_loss: 0.3302 - val_accuracy: 0.8593\n",
            "Epoch 6/20\n",
            "100/100 [==============================] - 35s 351ms/step - loss: 0.3074 - accuracy: 0.8755 - val_loss: 0.3713 - val_accuracy: 0.8405\n",
            "Epoch 7/20\n",
            "100/100 [==============================] - 35s 349ms/step - loss: 0.2875 - accuracy: 0.8793 - val_loss: 0.3785 - val_accuracy: 0.8424\n",
            "Epoch 8/20\n",
            "100/100 [==============================] - 36s 358ms/step - loss: 0.2712 - accuracy: 0.8906 - val_loss: 0.3843 - val_accuracy: 0.8180\n",
            "Epoch 9/20\n",
            "100/100 [==============================] - 35s 348ms/step - loss: 0.2958 - accuracy: 0.8812 - val_loss: 0.2884 - val_accuracy: 0.8762\n",
            "Epoch 10/20\n",
            "100/100 [==============================] - 35s 349ms/step - loss: 0.2463 - accuracy: 0.8962 - val_loss: 0.3135 - val_accuracy: 0.8668\n",
            "Epoch 11/20\n",
            "100/100 [==============================] - 36s 357ms/step - loss: 0.2436 - accuracy: 0.8974 - val_loss: 0.2688 - val_accuracy: 0.8780\n",
            "Epoch 12/20\n",
            "100/100 [==============================] - 35s 349ms/step - loss: 0.2489 - accuracy: 0.9024 - val_loss: 0.4131 - val_accuracy: 0.8462\n",
            "Epoch 13/20\n",
            "100/100 [==============================] - 36s 362ms/step - loss: 0.2564 - accuracy: 0.8943 - val_loss: 0.3188 - val_accuracy: 0.8780\n",
            "Epoch 14/20\n",
            "100/100 [==============================] - 36s 363ms/step - loss: 0.2582 - accuracy: 0.8931 - val_loss: 0.4470 - val_accuracy: 0.8480\n",
            "Epoch 15/20\n",
            "100/100 [==============================] - 35s 350ms/step - loss: 0.2437 - accuracy: 0.8956 - val_loss: 0.2794 - val_accuracy: 0.8724\n",
            "Epoch 16/20\n",
            "100/100 [==============================] - 35s 348ms/step - loss: 0.2098 - accuracy: 0.9106 - val_loss: 0.2733 - val_accuracy: 0.8837\n",
            "Epoch 17/20\n",
            "100/100 [==============================] - 36s 358ms/step - loss: 0.2650 - accuracy: 0.8937 - val_loss: 0.3220 - val_accuracy: 0.8574\n",
            "Epoch 18/20\n",
            "100/100 [==============================] - 35s 348ms/step - loss: 0.2165 - accuracy: 0.9162 - val_loss: 0.2966 - val_accuracy: 0.8818\n",
            "Epoch 19/20\n",
            "100/100 [==============================] - 35s 349ms/step - loss: 0.2072 - accuracy: 0.9156 - val_loss: 0.2590 - val_accuracy: 0.8799\n",
            "Epoch 20/20\n",
            "100/100 [==============================] - 35s 349ms/step - loss: 0.1810 - accuracy: 0.9231 - val_loss: 0.2885 - val_accuracy: 0.8780\n"
          ]
        }
      ],
      "source": [
        "# fit the model\n",
        "\n",
        "# history = model.fit_generator(\n",
        "#   training_set,\n",
        "#   validation_data=test_set,\n",
        "#   epochs=5,\n",
        "#   steps_per_epoch=len(training_set),\n",
        "#   validation_steps=len(test_set)\n",
        "# )\n",
        "\n",
        "history = model.fit(\n",
        "  training_set,\n",
        "  validation_data=test_set,\n",
        "  epochs=20,\n",
        "  steps_per_epoch=len(training_set),\n",
        "  validation_steps=len(test_set)\n",
        ")"
      ]
    },
    {
      "cell_type": "code",
      "execution_count": 27,
      "metadata": {
        "colab": {
          "base_uri": "https://localhost:8080/"
        },
        "id": "QETlpbP63GWN",
        "outputId": "5a727da5-51fc-4453-be3b-8fe62d1f9da4"
      },
      "outputs": [
        {
          "output_type": "stream",
          "name": "stdout",
          "text": [
            "Found 533 images belonging to 3 classes.\n"
          ]
        }
      ],
      "source": [
        "# Generate Validation set.\n",
        "validation_datagen = ImageDataGenerator(rescale = 1./255)\n",
        "\n",
        "validation_set = test_datagen.flow_from_directory(\n",
        "    directory = test_path,\n",
        "    target_size = (224, 224),\n",
        "    batch_size = BATCH_SIZE,\n",
        "    class_mode = 'categorical'\n",
        ")"
      ]
    },
    {
      "cell_type": "code",
      "execution_count": 28,
      "metadata": {
        "colab": {
          "base_uri": "https://localhost:8080/"
        },
        "id": "XQXLJIZBB2Ox",
        "outputId": "aca0f021-49a7-4e79-f7c5-66ae759841b8"
      },
      "outputs": [
        {
          "output_type": "stream",
          "name": "stdout",
          "text": [
            "34/34 [==============================] - 4s 109ms/step - loss: 0.3220 - accuracy: 0.8762\n",
            "loss: 0.32\n",
            "accuracy: 0.88\n"
          ]
        }
      ],
      "source": [
        "validation_steps = len(test_set)\n",
        "\n",
        "loss0,accuracy0 = model.evaluate(validation_set, steps = validation_steps)\n",
        "\n",
        "print(\"loss: {:.2f}\".format(loss0))\n",
        "print(\"accuracy: {:.2f}\".format(accuracy0))"
      ]
    },
    {
      "cell_type": "code",
      "execution_count": 29,
      "metadata": {
        "colab": {
          "base_uri": "https://localhost:8080/"
        },
        "id": "27qQLlwXCT7K",
        "outputId": "f58024fa-d035-4171-cc72-701f79ea1525"
      },
      "outputs": [
        {
          "output_type": "stream",
          "name": "stdout",
          "text": [
            "Found 533 images belonging to 3 classes.\n"
          ]
        }
      ],
      "source": [
        "# Generate Validation set.\n",
        "validation_set1 = test_datagen.flow_from_directory(\n",
        "    directory = test_path,\n",
        "    target_size = (224, 224),\n",
        "    batch_size = BATCH_SIZE,\n",
        "    shuffle=False, \n",
        "    seed=42, \n",
        "    class_mode=\"binary\"\n",
        ")\n",
        "\n",
        "# validation_set2.reset()"
      ]
    },
    {
      "cell_type": "code",
      "execution_count": 30,
      "metadata": {
        "colab": {
          "base_uri": "https://localhost:8080/"
        },
        "id": "xPni5vmMCgV8",
        "outputId": "7b6d69f1-557f-4eff-d268-749db5564e20"
      },
      "outputs": [
        {
          "output_type": "stream",
          "name": "stdout",
          "text": [
            "34/34 [==============================] - 4s 110ms/step - loss: 0.3220 - accuracy: 0.8762\n",
            "loss: 0.32\n",
            "accuracy: 0.88\n"
          ]
        }
      ],
      "source": [
        "# just capture the loss and accuray into val variable... unlike in pervious code to capture into loss0 and accuracy0. Just to showcase alternate way.\n",
        "\n",
        "val = model.evaluate(validation_set, steps = validation_steps)\n",
        "\n",
        "print(\"loss: {:.2f}\".format(val[0]))\n",
        "print(\"accuracy: {:.2f}\".format(val[1]))"
      ]
    },
    {
      "cell_type": "code",
      "execution_count": 31,
      "metadata": {
        "colab": {
          "base_uri": "https://localhost:8080/",
          "height": 295
        },
        "id": "bjq33MQ4Fq4l",
        "outputId": "a0364311-ebde-4dff-a013-aabc400d4ba1"
      },
      "outputs": [
        {
          "output_type": "display_data",
          "data": {
            "text/plain": [
              "<Figure size 432x288 with 1 Axes>"
            ],
            "image/png": "[encoded data removed]"
          },
          "metadata": {
            "needs_background": "light"
          }
        }
      ],
      "source": [
        "# summarize history for loss\n",
        "\n",
        "plt.plot(history.history['loss'], label='Train loss')\n",
        "plt.plot(history.history['val_loss'], label='Validation (Test) loss')\n",
        "plt.title('summarize history for loss')\n",
        "plt.ylabel('loss')\n",
        "plt.xlabel('epoch')\n",
        "plt.legend(['train', 'test'], loc='upper left')\n",
        "plt.show()"
      ]
    },
    {
      "cell_type": "code",
      "execution_count": 32,
      "metadata": {
        "colab": {
          "base_uri": "https://localhost:8080/",
          "height": 295
        },
        "id": "_5nzRfG-FriM",
        "outputId": "b8892635-505c-45fc-f9ad-8b803c389cee"
      },
      "outputs": [
        {
          "output_type": "display_data",
          "data": {
            "text/plain": [
              "<Figure size 432x288 with 1 Axes>"
            ],
            "image/png": "[encoded data removed]"
          },
          "metadata": {
            "needs_background": "light"
          }
        }
      ],
      "source": [
        "# summarize history for accuracy\n",
        "\n",
        "plt.plot(history.history['accuracy'])\n",
        "plt.plot(history.history['val_accuracy'])\n",
        "plt.title('summarize history for accuracy')\n",
        "plt.ylabel('accuracy')\n",
        "plt.xlabel('epoch')\n",
        "plt.legend(['train', 'test'], loc='upper left')\n",
        "plt.show()"
      ]
    },
    {
      "cell_type": "code",
      "execution_count": 33,
      "metadata": {
        "colab": {
          "base_uri": "https://localhost:8080/",
          "height": 306
        },
        "id": "haDv9mUOKRrH",
        "outputId": "1133f9b5-695f-4f8a-abdf-f6489b180b3f"
      },
      "outputs": [
        {
          "output_type": "stream",
          "name": "stdout",
          "text": [
            "150528\n",
            "[2]\n"
          ]
        },
        {
          "output_type": "display_data",
          "data": {
            "text/plain": [
              "<Figure size 432x288 with 1 Axes>"
            ],
            "image/png": "[encoded data removed]"
          },
          "metadata": {
            "needs_background": "light"
          }
        }
      ],
      "source": [
        "from keras.preprocessing import image\n",
        "dir = '/content/drive/MyDrive/FYP Project/dataset/train/POSITIVE/image_1427.png'\n",
        "img = image.load_img(dir,target_size=(224,224))\n",
        "img = np.asarray(img)\n",
        "plt.imshow(img)\n",
        "img = np.expand_dims(img, axis=0)\n",
        "print(img.size)\n",
        "output = model.predict(img)\n",
        "output = np.argmax(output,axis=1)\n",
        "print (output)"
      ]
    },
    {
      "cell_type": "code",
      "execution_count": null,
      "metadata": {
        "id": "sCPPsIoZiAiv"
      },
      "outputs": [],
      "source": [
        ""
      ]
    }
  ],
  "metadata": {
    "accelerator": "GPU",
    "colab": {
      "collapsed_sections": [],
      "name": "VGG16.ipynb",
      "provenance": [],
      "mount_file_id": "16WnmE_d_hMKh0pvqOeOUYprkLQi88AHd",
      "authorship_tag": "ABX9TyM2e2UXaG/ANTdCPhyQaGcE",
      "include_colab_link": true
    },
    "gpuClass": "standard",
    "kernelspec": {
      "display_name": "Python 3",
      "name": "python3"
    },
    "language_info": {
      "name": "python"
    }
  },
  "nbformat": 4,
  "nbformat_minor": 0
}