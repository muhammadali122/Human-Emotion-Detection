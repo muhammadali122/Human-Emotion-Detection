{
  "cells": [
    {
      "cell_type": "markdown",
      "metadata": {
        "id": "view-in-github",
        "colab_type": "text"
      },
      "source": [
        "<a href=\"https://colab.research.google.com/github/muhammadali122/Human-Emotion-Detection/blob/main/VGG16.ipynb\" target=\"_parent\"><img src=\"https://colab.research.google.com/assets/colab-badge.svg\" alt=\"Open In Colab\"/></a>"
      ]
    },
    {
      "cell_type": "code",
      "execution_count": null,
      "metadata": {
        "id": "nVMYhOLV2Wdx"
      },
      "outputs": [],
      "source": [
        "from keras.layers import Input, Lambda, Dense, Flatten\n",
        "from keras.models import Model\n",
        "from keras.applications.vgg16 import VGG16\n",
        "from keras.applications.vgg16 import preprocess_input\n",
        "from keras.applications.vgg16 import decode_predictions\n",
        "from keras.preprocessing import image\n",
        "from keras.preprocessing.image import ImageDataGenerator\n",
        "from keras.models import Sequential\n",
        "import numpy as np\n",
        "from glob import glob\n",
        "import matplotlib.pyplot as plt"
      ]
    },
    {
      "cell_type": "code",
      "execution_count": null,
      "metadata": {
        "id": "MeXjS_ks2aMO"
      },
      "outputs": [],
      "source": [
        "train_path = '/content/drive/MyDrive/FYP Project/dataset/train'\n",
        "val_path = '/content/drive/MyDrive/FYP Project/dataset/test'\n",
        "test_path = '/content/drive/MyDrive/FYP Project/dataset/test'"
      ]
    },
    {
      "cell_type": "code",
      "execution_count": null,
      "metadata": {
        "id": "ondJkYvPeXt5"
      },
      "outputs": [],
      "source": [
        "# re-size all the images to a size VGG-16 expects.\n",
        "IMAGE_SIZE = [224, 224]\n",
        "\n",
        "# Set the batch size\n",
        "BATCH_SIZE = 16 \n",
        "NUM_EPOCHS = 5\n",
        "LEARNING_RATE = 0.0001\n",
        "NUM_CLASSES = 3 "
      ]
    },
    {
      "cell_type": "code",
      "execution_count": null,
      "metadata": {
        "id": "a4fZ4_QIednp"
      },
      "outputs": [],
      "source": [
        "import os\n",
        "CLASSES = os.listdir(train_path)\n",
        "NUM_CLASSES = len(CLASSES)"
      ]
    },
    {
      "cell_type": "code",
      "execution_count": null,
      "metadata": {
        "colab": {
          "base_uri": "https://localhost:8080/"
        },
        "id": "SvykD3CQfmsl",
        "outputId": "ca1e1add-e6fb-4a7e-a0f9-bc3467f2499c"
      },
      "outputs": [
        {
          "output_type": "stream",
          "name": "stdout",
          "text": [
            "Class --> ['NEGATIVE', 'NEUTRAL', 'POSITIVE'] \n",
            " and the length is : 3\n"
          ]
        }
      ],
      "source": [
        "print(\"Class --> {} \\n and the length is : {}\".format(CLASSES, NUM_CLASSES))"
      ]
    },
    {
      "cell_type": "code",
      "execution_count": null,
      "metadata": {
        "id": "07L4nvw32DwM"
      },
      "outputs": [],
      "source": [
        "train_datagen = ImageDataGenerator(\n",
        "    rescale = 1./255,\n",
        "    shear_range = 0.2,\n",
        "    zoom_range = 0.2,\n",
        "    horizontal_flip = True\n",
        ")"
      ]
    },
    {
      "cell_type": "code",
      "execution_count": null,
      "metadata": {
        "colab": {
          "base_uri": "https://localhost:8080/"
        },
        "id": "c3qNu-Go2Npg",
        "outputId": "f651a25b-95db-4e68-b20e-307fd0592f09"
      },
      "outputs": [
        {
          "output_type": "stream",
          "name": "stdout",
          "text": [
            "Found 1599 images belonging to 3 classes.\n"
          ]
        }
      ],
      "source": [
        "# Import the images from the train dataset.\n",
        "# Make sure to provide the same target size as initialied for the image size\n",
        "training_set = train_datagen.flow_from_directory(\n",
        "    directory = train_path,\n",
        "    target_size = (224, 224),\n",
        "    batch_size = BATCH_SIZE,\n",
        "    class_mode = 'categorical'\n",
        ")"
      ]
    },
    {
      "cell_type": "code",
      "execution_count": null,
      "metadata": {
        "id": "oG0uUARk2TaM"
      },
      "outputs": [],
      "source": [
        "test_datagen = ImageDataGenerator(rescale = 1./255)"
      ]
    },
    {
      "cell_type": "code",
      "execution_count": null,
      "metadata": {
        "colab": {
          "base_uri": "https://localhost:8080/"
        },
        "id": "vQsiogsW2hES",
        "outputId": "41607c5e-626c-4669-8649-fa4206988dff"
      },
      "outputs": [
        {
          "output_type": "stream",
          "name": "stdout",
          "text": [
            "Found 533 images belonging to 3 classes.\n"
          ]
        }
      ],
      "source": [
        "# Import the images from the test dataset.\n",
        "\n",
        "test_set = train_datagen.flow_from_directory(\n",
        "    directory = test_path,\n",
        "    target_size = (224, 224),\n",
        "    batch_size = BATCH_SIZE,\n",
        "    class_mode = 'categorical'\n",
        ")\n"
      ]
    },
    {
      "cell_type": "code",
      "execution_count": null,
      "metadata": {
        "id": "ze9am1gD2ogS"
      },
      "outputs": [],
      "source": [
        "vgg = VGG16(input_shape = IMAGE_SIZE + [3], weights='imagenet', include_top=False)"
      ]
    },
    {
      "cell_type": "code",
      "execution_count": null,
      "metadata": {
        "id": "Vs-oJ4fC2uXe"
      },
      "outputs": [],
      "source": [
        "# don't train existing weights\n",
        "for layer in vgg.layers:\n",
        "    layer.trainable = False"
      ]
    },
    {
      "cell_type": "code",
      "execution_count": null,
      "metadata": {
        "id": "1qiXDqy22x8n"
      },
      "outputs": [],
      "source": [
        "# our layers - you can add more if you want\n",
        "x = Flatten()(vgg.output)\n",
        "\n",
        "prediction = Dense(NUM_CLASSES, activation='softmax')(x)"
      ]
    },
    {
      "cell_type": "code",
      "execution_count": null,
      "metadata": {
        "id": "OPX5Rn6N21ms"
      },
      "outputs": [],
      "source": [
        "# create a model object\n",
        "model = Model(inputs=vgg.input, outputs=prediction)"
      ]
    },
    {
      "cell_type": "code",
      "execution_count": null,
      "metadata": {
        "colab": {
          "base_uri": "https://localhost:8080/"
        },
        "id": "dPBXQk5H24GT",
        "outputId": "8b2fb9a1-e1b9-428c-aa98-536271d269b8"
      },
      "outputs": [
        {
          "output_type": "stream",
          "name": "stdout",
          "text": [
            "Model: \"model_1\"\n",
            "_________________________________________________________________\n",
            " Layer (type)                Output Shape              Param #   \n",
            "=================================================================\n",
            " input_2 (InputLayer)        [(None, 224, 224, 3)]     0         \n",
            "                                                                 \n",
            " block1_conv1 (Conv2D)       (None, 224, 224, 64)      1792      \n",
            "                                                                 \n",
            " block1_conv2 (Conv2D)       (None, 224, 224, 64)      36928     \n",
            "                                                                 \n",
            " block1_pool (MaxPooling2D)  (None, 112, 112, 64)      0         \n",
            "                                                                 \n",
            " block2_conv1 (Conv2D)       (None, 112, 112, 128)     73856     \n",
            "                                                                 \n",
            " block2_conv2 (Conv2D)       (None, 112, 112, 128)     147584    \n",
            "                                                                 \n",
            " block2_pool (MaxPooling2D)  (None, 56, 56, 128)       0         \n",
            "                                                                 \n",
            " block3_conv1 (Conv2D)       (None, 56, 56, 256)       295168    \n",
            "                                                                 \n",
            " block3_conv2 (Conv2D)       (None, 56, 56, 256)       590080    \n",
            "                                                                 \n",
            " block3_conv3 (Conv2D)       (None, 56, 56, 256)       590080    \n",
            "                                                                 \n",
            " block3_pool (MaxPooling2D)  (None, 28, 28, 256)       0         \n",
            "                                                                 \n",
            " block4_conv1 (Conv2D)       (None, 28, 28, 512)       1180160   \n",
            "                                                                 \n",
            " block4_conv2 (Conv2D)       (None, 28, 28, 512)       2359808   \n",
            "                                                                 \n",
            " block4_conv3 (Conv2D)       (None, 28, 28, 512)       2359808   \n",
            "                                                                 \n",
            " block4_pool (MaxPooling2D)  (None, 14, 14, 512)       0         \n",
            "                                                                 \n",
            " block5_conv1 (Conv2D)       (None, 14, 14, 512)       2359808   \n",
            "                                                                 \n",
            " block5_conv2 (Conv2D)       (None, 14, 14, 512)       2359808   \n",
            "                                                                 \n",
            " block5_conv3 (Conv2D)       (None, 14, 14, 512)       2359808   \n",
            "                                                                 \n",
            " block5_pool (MaxPooling2D)  (None, 7, 7, 512)         0         \n",
            "                                                                 \n",
            " flatten_1 (Flatten)         (None, 25088)             0         \n",
            "                                                                 \n",
            " dense_1 (Dense)             (None, 3)                 75267     \n",
            "                                                                 \n",
            "=================================================================\n",
            "Total params: 14,789,955\n",
            "Trainable params: 75,267\n",
            "Non-trainable params: 14,714,688\n",
            "_________________________________________________________________\n"
          ]
        }
      ],
      "source": [
        "model.summary()"
      ]
    },
    {
      "cell_type": "code",
      "execution_count": null,
      "metadata": {
        "id": "-mqyrp5Z26jA"
      },
      "outputs": [],
      "source": [
        "# tell the model what cost and optimization method to use\n",
        "model.compile(\n",
        "  loss='categorical_crossentropy',\n",
        "  optimizer='adam',\n",
        "  metrics=['accuracy']\n",
        ")"
      ]
    },
    {
      "cell_type": "code",
      "execution_count": null,
      "metadata": {
        "colab": {
          "base_uri": "https://localhost:8080/"
        },
        "id": "h6JsyxSJ3DA7",
        "outputId": "4b50f144-75fe-4e04-858d-56580f6e036f"
      },
      "outputs": [
        {
          "output_type": "stream",
          "name": "stdout",
          "text": [
            "Epoch 1/5\n",
            "100/100 [==============================] - 42s 399ms/step - loss: 0.5587 - accuracy: 0.7749 - val_loss: 0.6495 - val_accuracy: 0.7598\n",
            "Epoch 2/5\n",
            "100/100 [==============================] - 37s 368ms/step - loss: 0.3889 - accuracy: 0.8424 - val_loss: 0.5648 - val_accuracy: 0.8105\n",
            "Epoch 3/5\n",
            "100/100 [==============================] - 38s 378ms/step - loss: 0.3301 - accuracy: 0.8624 - val_loss: 0.3896 - val_accuracy: 0.8405\n",
            "Epoch 4/5\n",
            "100/100 [==============================] - 36s 355ms/step - loss: 0.3424 - accuracy: 0.8643 - val_loss: 0.2964 - val_accuracy: 0.8762\n",
            "Epoch 5/5\n",
            "100/100 [==============================] - 36s 359ms/step - loss: 0.2747 - accuracy: 0.8881 - val_loss: 0.3066 - val_accuracy: 0.8799\n"
          ]
        }
      ],
      "source": [
        "# fit the model\n",
        "\n",
        "# history = model.fit_generator(\n",
        "#   training_set,\n",
        "#   validation_data=test_set,\n",
        "#   epochs=5,\n",
        "#   steps_per_epoch=len(training_set),\n",
        "#   validation_steps=len(test_set)\n",
        "# )\n",
        "\n",
        "history = model.fit(\n",
        "  training_set,\n",
        "  validation_data=test_set,\n",
        "  epochs=5,\n",
        "  steps_per_epoch=len(training_set),\n",
        "  validation_steps=len(test_set)\n",
        ")"
      ]
    },
    {
      "cell_type": "code",
      "execution_count": 49,
      "metadata": {
        "colab": {
          "base_uri": "https://localhost:8080/"
        },
        "id": "QETlpbP63GWN",
        "outputId": "073bf768-3019-4aa7-98e2-9fbc02687dc6"
      },
      "outputs": [
        {
          "output_type": "stream",
          "name": "stdout",
          "text": [
            "Found 533 images belonging to 3 classes.\n"
          ]
        }
      ],
      "source": [
        "# Generate Validation set.\n",
        "validation_datagen = ImageDataGenerator(rescale = 1./255)\n",
        "\n",
        "validation_set = test_datagen.flow_from_directory(\n",
        "    directory = test_path,\n",
        "    target_size = (224, 224),\n",
        "    batch_size = BATCH_SIZE,\n",
        "    class_mode = 'categorical'\n",
        ")"
      ]
    },
    {
      "cell_type": "code",
      "execution_count": 50,
      "metadata": {
        "colab": {
          "base_uri": "https://localhost:8080/"
        },
        "id": "XQXLJIZBB2Ox",
        "outputId": "ae7c75ea-40d8-4479-fa6a-4db3987a397a"
      },
      "outputs": [
        {
          "output_type": "stream",
          "name": "stdout",
          "text": [
            "34/34 [==============================] - 4s 115ms/step - loss: 0.3028 - accuracy: 0.8780\n",
            "loss: 0.30\n",
            "accuracy: 0.88\n"
          ]
        }
      ],
      "source": [
        "validation_steps = len(test_set)\n",
        "\n",
        "loss0,accuracy0 = model.evaluate(validation_set, steps = validation_steps)\n",
        "\n",
        "print(\"loss: {:.2f}\".format(loss0))\n",
        "print(\"accuracy: {:.2f}\".format(accuracy0))"
      ]
    },
    {
      "cell_type": "code",
      "execution_count": 51,
      "metadata": {
        "colab": {
          "base_uri": "https://localhost:8080/"
        },
        "id": "27qQLlwXCT7K",
        "outputId": "ac99f745-0d45-49db-a120-0d16c291fc59"
      },
      "outputs": [
        {
          "output_type": "stream",
          "name": "stdout",
          "text": [
            "Found 1599 images belonging to 3 classes.\n"
          ]
        }
      ],
      "source": [
        "# Generate Validation set.\n",
        "validation_set2 = train_datagen.flow_from_directory(\n",
        "    directory = train_path,\n",
        "    target_size = (224, 224),\n",
        "    batch_size = 1,\n",
        "    shuffle=False, \n",
        "    seed=42, \n",
        "    class_mode=\"binary\"\n",
        ")\n",
        "\n",
        "# validation_set2.reset()"
      ]
    },
    {
      "cell_type": "code",
      "execution_count": 52,
      "metadata": {
        "colab": {
          "base_uri": "https://localhost:8080/"
        },
        "id": "xPni5vmMCgV8",
        "outputId": "7dc78c1a-9284-44f8-982f-4e814c48cb94"
      },
      "outputs": [
        {
          "output_type": "stream",
          "name": "stdout",
          "text": [
            "34/34 [==============================] - 4s 113ms/step - loss: 0.3028 - accuracy: 0.8780\n",
            "loss: 0.30\n",
            "accuracy: 0.88\n"
          ]
        }
      ],
      "source": [
        "# just capture the loss and accuray into val variable... unlike in pervious code to capture into loss0 and accuracy0. Just to showcase alternate way.\n",
        "\n",
        "val = model.evaluate(validation_set, steps = validation_steps)\n",
        "\n",
        "print(\"loss: {:.2f}\".format(val[0]))\n",
        "print(\"accuracy: {:.2f}\".format(val[1]))"
      ]
    },
    {
      "cell_type": "code",
      "execution_count": 53,
      "metadata": {
        "colab": {
          "base_uri": "https://localhost:8080/",
          "height": 295
        },
        "id": "bjq33MQ4Fq4l",
        "outputId": "5e399022-ac4b-4539-b421-b1fc16b64a1a"
      },
      "outputs": [
        {
          "output_type": "display_data",
          "data": {
            "text/plain": [
              "<Figure size 432x288 with 1 Axes>"
            ],
            "image/png": "[encoded data removed]"
          },
          "metadata": {
            "needs_background": "light"
          }
        }
      ],
      "source": [
        "# summarize history for loss\n",
        "\n",
        "plt.plot(history.history['loss'], label='Train loss')\n",
        "plt.plot(history.history['val_loss'], label='Validation (Test) loss')\n",
        "plt.title('summarize history for loss')\n",
        "plt.ylabel('loss')\n",
        "plt.xlabel('epoch')\n",
        "plt.legend(['train', 'test'], loc='upper left')\n",
        "plt.show()"
      ]
    },
    {
      "cell_type": "code",
      "execution_count": 54,
      "metadata": {
        "colab": {
          "base_uri": "https://localhost:8080/",
          "height": 295
        },
        "id": "_5nzRfG-FriM",
        "outputId": "e2be19eb-4e35-4e5e-dc8d-675b385ff61d"
      },
      "outputs": [
        {
          "output_type": "display_data",
          "data": {
            "text/plain": [
              "<Figure size 432x288 with 1 Axes>"
            ],
            "image/png": "[encoded data removed]"
          },
          "metadata": {
            "needs_background": "light"
          }
        }
      ],
      "source": [
        "# summarize history for accuracy\n",
        "\n",
        "plt.plot(history.history['accuracy'])\n",
        "plt.plot(history.history['val_accuracy'])\n",
        "plt.title('summarize history for accuracy')\n",
        "plt.ylabel('accuracy')\n",
        "plt.xlabel('epoch')\n",
        "plt.legend(['train', 'test'], loc='upper left')\n",
        "plt.show()"
      ]
    },
    {
      "cell_type": "code",
      "execution_count": 55,
      "metadata": {
        "colab": {
          "base_uri": "https://localhost:8080/",
          "height": 306
        },
        "id": "haDv9mUOKRrH",
        "outputId": "bc2366a2-c617-4780-b363-01db544b28ce"
      },
      "outputs": [
        {
          "output_type": "stream",
          "name": "stdout",
          "text": [
            "150528\n",
            "[2]\n"
          ]
        },
        {
          "output_type": "display_data",
          "data": {
            "text/plain": [
              "<Figure size 432x288 with 1 Axes>"
            ],
            "image/png": "[encoded data removed]"
          },
          "metadata": {
            "needs_background": "light"
          }
        }
      ],
      "source": [
        "from keras.preprocessing import image\n",
        "dir = '/content/drive/MyDrive/FYP Project/dataset/train/POSITIVE/image_1427.png'\n",
        "img = image.load_img(dir,target_size=(224,224))\n",
        "img = np.asarray(img)\n",
        "plt.imshow(img)\n",
        "img = np.expand_dims(img, axis=0)\n",
        "print(img.size)\n",
        "output = model.predict(img)\n",
        "output = np.argmax(output,axis=1)\n",
        "print (output)"
      ]
    },
    {
      "cell_type": "code",
      "execution_count": null,
      "metadata": {
        "id": "sCPPsIoZiAiv"
      },
      "outputs": [],
      "source": [
        ""
      ]
    }
  ],
  "metadata": {
    "accelerator": "GPU",
    "colab": {
      "collapsed_sections": [],
      "name": "VGG16.ipynb",
      "provenance": [],
      "mount_file_id": "16WnmE_d_hMKh0pvqOeOUYprkLQi88AHd",
      "authorship_tag": "ABX9TyOYXFEjPoNijrFqMwOIGFqW",
      "include_colab_link": true
    },
    "gpuClass": "standard",
    "kernelspec": {
      "display_name": "Python 3",
      "name": "python3"
    },
    "language_info": {
      "name": "python"
    }
  },
  "nbformat": 4,
  "nbformat_minor": 0
}